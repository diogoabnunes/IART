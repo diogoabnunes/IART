{
 "cells": [
  {
   "cell_type": "markdown",
   "metadata": {},
   "source": [
    "# Natural Language Processing: Detecting Humor\n",
    "## TP2 - IART - G44\n",
    "- [Afonso Caiado, up201806789](https://sigarra.up.pt/feup/pt/fest_geral.cursos_list?pv_num_unico=201806789)\n",
    "- [Diogo Nunes, up201808546](https://sigarra.up.pt/feup/pt/fest_geral.cursos_list?pv_num_unico=201808546)\n",
    "- [João Pinto, up201806667](https://sigarra.up.pt/feup/pt/fest_geral.cursos_list?pv_num_unico=201806667)"
   ]
  },
  {
   "cell_type": "markdown",
   "metadata": {},
   "source": [
    "**It is recommended to [view this notebook in nbviewer](http://nbviewer.ipython.org/github/rhiever/Data-Analysis-and-Machine-Learning-Projects/blob/master/example-data-science-notebook/Example%20Machine%20Learning%20Notebook.ipynb) for the best viewing experience.**\n",
    "\n",
    "**You can also [execute the code in this notebook on Binder](https://mybinder.org/v2/gh/rhiever/Data-Analysis-and-Machine-Learning-Projects/master?filepath=example-data-science-notebook%2FExample%20Machine%20Learning%20Notebook.ipynb) - no local installation required.**"
   ]
  },
  {
   "cell_type": "markdown",
   "metadata": {},
   "source": [
    "## Table of contents\n",
    "\n",
    "1. [Introduction](#Introduction)\n",
    "2. [Required libraries](#Required-libraries)\n",
    "3. [Checking the data](#Checking-the-data)\n",
    "4. [Preprocessing the data](#Preprocessing-the-data)\n",
    "    - [Porter Stemming](#Porter-Stemming)\n",
    "    - [Snowball Stemming](#Snowball-Stemming)\n",
    "    - [Lancaster Stemming](#Lancaster-Stemming)\n",
    "    - [Lemmatization](#Lemmatization)\n",
    "    - [Bag of words Model](#Bag-of-words-Model)\n",
    "    - [Stemming or Lemmatization?](#Stemming-or-Lemmatization?)\n",
    "5. [Applying machine learning algorithms](#Applying-machine-learning-algorithms)\n",
    "6. [Conclusions](#Conclusions)\n",
    "7. [References](#References)"
   ]
  },
  {
   "cell_type": "markdown",
   "metadata": {},
   "source": [
    "## Introduction\n",
    "\n",
    "[[ go back to the top ]](#Table-of-contents)\n",
    "\n",
    "Humor poses interesting linguistic challenges to NLP, due to its emphasis on multiple word senses, cultural knowledge, and pragmatic competence. Humor appreciation is also a highly subjective phenomenon, and each person can have a different perception of a joke. \n",
    "\n",
    "- Is the intention of the text do be humorous? (0 or 1). The first task, is a binary one. We simply have to predict if the text is considered humorous.  \n",
    "- (If it is intended to be humorous) How humorous do you find it? (1 to 5). In this step, by emulating previous humor detection tasks with ratings and classification scores, we have to predict how humorous the text actually is (if it is humorous)."
   ]
  },
  {
   "cell_type": "markdown",
   "metadata": {},
   "source": [
    "## Required libraries and imports\n",
    "\n",
    "[[ go back to the top ]](#Table-of-contents)\n",
    "\n",
    "If you don't have Python on your computer, you can use the [Anaconda Python distribution](http://continuum.io/downloads) to install most of the Python packages you need. Anaconda provides a simple double-click installer for your convenience.\n",
    "\n",
    "This notebook uses several Python packages that come standard with the Anaconda Python distribution. The primary libraries that we'll be using are:\n",
    "\n",
    "* **NumPy**: Provides a fast numerical array structure and helper functions.\n",
    "* **pandas**: Provides a DataFrame structure to store data in memory and work with it easily and efficiently.\n",
    "* **scikit-learn**: The essential Machine Learning package in Python.\n",
    "* **matplotlib**: Basic plotting library in Python; most other Python plotting libraries are built on top of it.\n",
    "* **Seaborn**: Advanced statistical plotting library.\n",
    "\n",
    "To make sure you have all of the packages you need, install them with `conda`:\n",
    "\n",
    "    conda install numpy pandas scikit-learn matplotlib seaborn\n",
    "    \n",
    "    conda install -c conda-forge watermark\n",
    "\n",
    "`conda` may ask you to update some of them if you don't have the most recent version. Allow it to do so.\n",
    "\n",
    "**Note:** We will not be providing support for people trying to run this notebook outside of the Anaconda Python distribution."
   ]
  },
  {
   "cell_type": "code",
   "execution_count": 44,
   "metadata": {},
   "outputs": [],
   "source": [
    "import pandas as pd\n",
    "import seaborn as sb\n",
    "import re\n",
    "import numpy as np\n",
    "import nltk\n",
    "from nltk.stem.porter import PorterStemmer\n",
    "from nltk.stem import LancasterStemmer\n",
    "from nltk.stem.snowball import SnowballStemmer\n",
    "from nltk.stem import WordNetLemmatizer\n",
    "from nltk.corpus import stopwords\n",
    "from sklearn.feature_extraction.text import CountVectorizer\n",
    "from sklearn.naive_bayes import GaussianNB\n",
    "from sklearn.metrics import confusion_matrix\n",
    "from sklearn.metrics import accuracy_score\n",
    "from sklearn.metrics import precision_score\n",
    "from sklearn.metrics import recall_score\n",
    "from sklearn.metrics import f1_score"
   ]
  },
  {
   "cell_type": "markdown",
   "metadata": {},
   "source": [
    "## Checking the data\n",
    "\n",
    "[[ go back to the top ]](#Table-of-contents)\n",
    "\n",
    "In this section, we will import the datasets needed, check and analyse their content."
   ]
  },
  {
   "cell_type": "code",
   "execution_count": 45,
   "metadata": {},
   "outputs": [],
   "source": [
    "fields = ['text', 'is_humor']\n",
    "# for this project, we don't need 'humor_controversy' and 'offense_rating'\n",
    "\n",
    "# Importing the datasets\n",
    "train_dataset = pd.read_csv('datasets/train.csv', usecols=fields, na_values=['NaN'])\n",
    "dev_dataset = pd.read_csv('datasets/public_dev.csv')\n",
    "test_dataset = pd.read_csv('datasets/public_test.csv', usecols=fields, na_values=['NaN'])\n",
    "#train_dataset['humor_rating'] = train_dataset['humor_rating'].fillna(0)"
   ]
  },
  {
   "cell_type": "code",
   "execution_count": 46,
   "metadata": {},
   "outputs": [
    {
     "data": {
      "text/html": [
       "<div>\n",
       "<style scoped>\n",
       "    .dataframe tbody tr th:only-of-type {\n",
       "        vertical-align: middle;\n",
       "    }\n",
       "\n",
       "    .dataframe tbody tr th {\n",
       "        vertical-align: top;\n",
       "    }\n",
       "\n",
       "    .dataframe thead th {\n",
       "        text-align: right;\n",
       "    }\n",
       "</style>\n",
       "<table border=\"1\" class=\"dataframe\">\n",
       "  <thead>\n",
       "    <tr style=\"text-align: right;\">\n",
       "      <th></th>\n",
       "      <th>text</th>\n",
       "      <th>is_humor</th>\n",
       "    </tr>\n",
       "  </thead>\n",
       "  <tbody>\n",
       "    <tr>\n",
       "      <th>0</th>\n",
       "      <td>TENNESSEE: We're the best state. Nobody even c...</td>\n",
       "      <td>1</td>\n",
       "    </tr>\n",
       "    <tr>\n",
       "      <th>1</th>\n",
       "      <td>A man inserted an advertisement in the classif...</td>\n",
       "      <td>1</td>\n",
       "    </tr>\n",
       "    <tr>\n",
       "      <th>2</th>\n",
       "      <td>How many men does it take to open a can of bee...</td>\n",
       "      <td>1</td>\n",
       "    </tr>\n",
       "    <tr>\n",
       "      <th>3</th>\n",
       "      <td>Told my mom I hit 1200 Twitter followers. She ...</td>\n",
       "      <td>1</td>\n",
       "    </tr>\n",
       "    <tr>\n",
       "      <th>4</th>\n",
       "      <td>Roses are dead. Love is fake. Weddings are bas...</td>\n",
       "      <td>1</td>\n",
       "    </tr>\n",
       "  </tbody>\n",
       "</table>\n",
       "</div>"
      ],
      "text/plain": [
       "                                                text  is_humor\n",
       "0  TENNESSEE: We're the best state. Nobody even c...         1\n",
       "1  A man inserted an advertisement in the classif...         1\n",
       "2  How many men does it take to open a can of bee...         1\n",
       "3  Told my mom I hit 1200 Twitter followers. She ...         1\n",
       "4  Roses are dead. Love is fake. Weddings are bas...         1"
      ]
     },
     "execution_count": 46,
     "metadata": {},
     "output_type": "execute_result"
    }
   ],
   "source": [
    "# Train dataset head\n",
    "train_dataset.head()"
   ]
  },
  {
   "cell_type": "code",
   "execution_count": 47,
   "metadata": {},
   "outputs": [
    {
     "name": "stdout",
     "output_type": "stream",
     "text": [
      "<class 'pandas.core.frame.DataFrame'>\n",
      "RangeIndex: 8000 entries, 0 to 7999\n",
      "Data columns (total 2 columns):\n",
      " #   Column    Non-Null Count  Dtype \n",
      "---  ------    --------------  ----- \n",
      " 0   text      8000 non-null   object\n",
      " 1   is_humor  8000 non-null   int64 \n",
      "dtypes: int64(1), object(1)\n",
      "memory usage: 125.1+ KB\n"
     ]
    }
   ],
   "source": [
    "# Train dataset information\n",
    "train_dataset.info()"
   ]
  },
  {
   "cell_type": "markdown",
   "metadata": {},
   "source": [
    "As we can see, our train dataset has 4 relevant fields (for this project):\n",
    "- **id**\n",
    "- **text**\n",
    "- **is_humor**\n",
    "- **humor_rating**."
   ]
  },
  {
   "cell_type": "code",
   "execution_count": 48,
   "metadata": {},
   "outputs": [
    {
     "data": {
      "text/html": [
       "<div>\n",
       "<style scoped>\n",
       "    .dataframe tbody tr th:only-of-type {\n",
       "        vertical-align: middle;\n",
       "    }\n",
       "\n",
       "    .dataframe tbody tr th {\n",
       "        vertical-align: top;\n",
       "    }\n",
       "\n",
       "    .dataframe thead th {\n",
       "        text-align: right;\n",
       "    }\n",
       "</style>\n",
       "<table border=\"1\" class=\"dataframe\">\n",
       "  <thead>\n",
       "    <tr style=\"text-align: right;\">\n",
       "      <th></th>\n",
       "      <th>is_humor</th>\n",
       "    </tr>\n",
       "  </thead>\n",
       "  <tbody>\n",
       "    <tr>\n",
       "      <th>count</th>\n",
       "      <td>8000.000000</td>\n",
       "    </tr>\n",
       "    <tr>\n",
       "      <th>mean</th>\n",
       "      <td>0.616500</td>\n",
       "    </tr>\n",
       "    <tr>\n",
       "      <th>std</th>\n",
       "      <td>0.486269</td>\n",
       "    </tr>\n",
       "    <tr>\n",
       "      <th>min</th>\n",
       "      <td>0.000000</td>\n",
       "    </tr>\n",
       "    <tr>\n",
       "      <th>25%</th>\n",
       "      <td>0.000000</td>\n",
       "    </tr>\n",
       "    <tr>\n",
       "      <th>50%</th>\n",
       "      <td>1.000000</td>\n",
       "    </tr>\n",
       "    <tr>\n",
       "      <th>75%</th>\n",
       "      <td>1.000000</td>\n",
       "    </tr>\n",
       "    <tr>\n",
       "      <th>max</th>\n",
       "      <td>1.000000</td>\n",
       "    </tr>\n",
       "  </tbody>\n",
       "</table>\n",
       "</div>"
      ],
      "text/plain": [
       "          is_humor\n",
       "count  8000.000000\n",
       "mean      0.616500\n",
       "std       0.486269\n",
       "min       0.000000\n",
       "25%       0.000000\n",
       "50%       1.000000\n",
       "75%       1.000000\n",
       "max       1.000000"
      ]
     },
     "execution_count": 48,
     "metadata": {},
     "output_type": "execute_result"
    }
   ],
   "source": [
    "# Train dataset statistics\n",
    "train_dataset.describe()"
   ]
  },
  {
   "cell_type": "markdown",
   "metadata": {},
   "source": [
    "This table shows that our train dataset has:\n",
    "- 8000 data lines;\n",
    "- Curiously, there is no text evaluated with more than 4 in humor_rating column;\n",
    "- The mean value of humor_rating is 2.26\n",
    "- 61.6% of the dataset is considered humoristic."
   ]
  },
  {
   "cell_type": "code",
   "execution_count": 49,
   "metadata": {},
   "outputs": [
    {
     "data": {
      "text/plain": [
       "<AxesSubplot:xlabel='is_humor', ylabel='count'>"
      ]
     },
     "execution_count": 49,
     "metadata": {},
     "output_type": "execute_result"
    },
    {
     "data": {
      "image/png": "[encoded data removed]",
      "text/plain": [
       "<Figure size 432x288 with 1 Axes>"
      ]
     },
     "metadata": {
      "needs_background": "light"
     },
     "output_type": "display_data"
    }
   ],
   "source": [
    "sb.countplot(x='is_humor', data=train_dataset)"
   ]
  },
  {
   "cell_type": "code",
   "execution_count": 50,
   "metadata": {},
   "outputs": [
    {
     "ename": "ValueError",
     "evalue": "Could not interpret input 'humor_rating'",
     "output_type": "error",
     "traceback": [
      "\u001b[1;31m---------------------------------------------------------------------------\u001b[0m",
      "\u001b[1;31mValueError\u001b[0m                                Traceback (most recent call last)",
      "\u001b[1;32m<ipython-input-50-454e6bfe7a6b>\u001b[0m in \u001b[0;36m<module>\u001b[1;34m\u001b[0m\n\u001b[1;32m----> 1\u001b[1;33m \u001b[0msb\u001b[0m\u001b[1;33m.\u001b[0m\u001b[0mcountplot\u001b[0m\u001b[1;33m(\u001b[0m\u001b[0mx\u001b[0m\u001b[1;33m=\u001b[0m\u001b[1;34m'humor_rating'\u001b[0m\u001b[1;33m,\u001b[0m \u001b[0morder\u001b[0m\u001b[1;33m=\u001b[0m\u001b[1;33m[\u001b[0m\u001b[1;36m1\u001b[0m\u001b[1;33m,\u001b[0m\u001b[1;36m2\u001b[0m\u001b[1;33m,\u001b[0m\u001b[1;36m3\u001b[0m\u001b[1;33m,\u001b[0m\u001b[1;36m4\u001b[0m\u001b[1;33m,\u001b[0m\u001b[1;36m5\u001b[0m\u001b[1;33m]\u001b[0m\u001b[1;33m,\u001b[0m \u001b[0mdata\u001b[0m\u001b[1;33m=\u001b[0m\u001b[0mtrain_dataset\u001b[0m\u001b[1;33m)\u001b[0m\u001b[1;33m\u001b[0m\u001b[1;33m\u001b[0m\u001b[0m\n\u001b[0m",
      "\u001b[1;32m~\\anaconda3\\lib\\site-packages\\seaborn\\_decorators.py\u001b[0m in \u001b[0;36minner_f\u001b[1;34m(*args, **kwargs)\u001b[0m\n\u001b[0;32m     44\u001b[0m             )\n\u001b[0;32m     45\u001b[0m         \u001b[0mkwargs\u001b[0m\u001b[1;33m.\u001b[0m\u001b[0mupdate\u001b[0m\u001b[1;33m(\u001b[0m\u001b[1;33m{\u001b[0m\u001b[0mk\u001b[0m\u001b[1;33m:\u001b[0m \u001b[0marg\u001b[0m \u001b[1;32mfor\u001b[0m \u001b[0mk\u001b[0m\u001b[1;33m,\u001b[0m \u001b[0marg\u001b[0m \u001b[1;32min\u001b[0m \u001b[0mzip\u001b[0m\u001b[1;33m(\u001b[0m\u001b[0msig\u001b[0m\u001b[1;33m.\u001b[0m\u001b[0mparameters\u001b[0m\u001b[1;33m,\u001b[0m \u001b[0margs\u001b[0m\u001b[1;33m)\u001b[0m\u001b[1;33m}\u001b[0m\u001b[1;33m)\u001b[0m\u001b[1;33m\u001b[0m\u001b[1;33m\u001b[0m\u001b[0m\n\u001b[1;32m---> 46\u001b[1;33m         \u001b[1;32mreturn\u001b[0m \u001b[0mf\u001b[0m\u001b[1;33m(\u001b[0m\u001b[1;33m**\u001b[0m\u001b[0mkwargs\u001b[0m\u001b[1;33m)\u001b[0m\u001b[1;33m\u001b[0m\u001b[1;33m\u001b[0m\u001b[0m\n\u001b[0m\u001b[0;32m     47\u001b[0m     \u001b[1;32mreturn\u001b[0m \u001b[0minner_f\u001b[0m\u001b[1;33m\u001b[0m\u001b[1;33m\u001b[0m\u001b[0m\n\u001b[0;32m     48\u001b[0m \u001b[1;33m\u001b[0m\u001b[0m\n",
      "\u001b[1;32m~\\anaconda3\\lib\\site-packages\\seaborn\\categorical.py\u001b[0m in \u001b[0;36mcountplot\u001b[1;34m(x, y, hue, data, order, hue_order, orient, color, palette, saturation, dodge, ax, **kwargs)\u001b[0m\n\u001b[0;32m   3583\u001b[0m         \u001b[1;32mraise\u001b[0m \u001b[0mValueError\u001b[0m\u001b[1;33m(\u001b[0m\u001b[1;34m\"Cannot pass values for both `x` and `y`\"\u001b[0m\u001b[1;33m)\u001b[0m\u001b[1;33m\u001b[0m\u001b[1;33m\u001b[0m\u001b[0m\n\u001b[0;32m   3584\u001b[0m \u001b[1;33m\u001b[0m\u001b[0m\n\u001b[1;32m-> 3585\u001b[1;33m     plotter = _CountPlotter(\n\u001b[0m\u001b[0;32m   3586\u001b[0m         \u001b[0mx\u001b[0m\u001b[1;33m,\u001b[0m \u001b[0my\u001b[0m\u001b[1;33m,\u001b[0m \u001b[0mhue\u001b[0m\u001b[1;33m,\u001b[0m \u001b[0mdata\u001b[0m\u001b[1;33m,\u001b[0m \u001b[0morder\u001b[0m\u001b[1;33m,\u001b[0m \u001b[0mhue_order\u001b[0m\u001b[1;33m,\u001b[0m\u001b[1;33m\u001b[0m\u001b[1;33m\u001b[0m\u001b[0m\n\u001b[0;32m   3587\u001b[0m         \u001b[0mestimator\u001b[0m\u001b[1;33m,\u001b[0m \u001b[0mci\u001b[0m\u001b[1;33m,\u001b[0m \u001b[0mn_boot\u001b[0m\u001b[1;33m,\u001b[0m \u001b[0munits\u001b[0m\u001b[1;33m,\u001b[0m \u001b[0mseed\u001b[0m\u001b[1;33m,\u001b[0m\u001b[1;33m\u001b[0m\u001b[1;33m\u001b[0m\u001b[0m\n",
      "\u001b[1;32m~\\anaconda3\\lib\\site-packages\\seaborn\\categorical.py\u001b[0m in \u001b[0;36m__init__\u001b[1;34m(self, x, y, hue, data, order, hue_order, estimator, ci, n_boot, units, seed, orient, color, palette, saturation, errcolor, errwidth, capsize, dodge)\u001b[0m\n\u001b[0;32m   1582\u001b[0m                  errwidth, capsize, dodge):\n\u001b[0;32m   1583\u001b[0m         \u001b[1;34m\"\"\"Initialize the plotter.\"\"\"\u001b[0m\u001b[1;33m\u001b[0m\u001b[1;33m\u001b[0m\u001b[0m\n\u001b[1;32m-> 1584\u001b[1;33m         self.establish_variables(x, y, hue, data, orient,\n\u001b[0m\u001b[0;32m   1585\u001b[0m                                  order, hue_order, units)\n\u001b[0;32m   1586\u001b[0m         \u001b[0mself\u001b[0m\u001b[1;33m.\u001b[0m\u001b[0mestablish_colors\u001b[0m\u001b[1;33m(\u001b[0m\u001b[0mcolor\u001b[0m\u001b[1;33m,\u001b[0m \u001b[0mpalette\u001b[0m\u001b[1;33m,\u001b[0m \u001b[0msaturation\u001b[0m\u001b[1;33m)\u001b[0m\u001b[1;33m\u001b[0m\u001b[1;33m\u001b[0m\u001b[0m\n",
      "\u001b[1;32m~\\anaconda3\\lib\\site-packages\\seaborn\\categorical.py\u001b[0m in \u001b[0;36mestablish_variables\u001b[1;34m(self, x, y, hue, data, orient, order, hue_order, units)\u001b[0m\n\u001b[0;32m    151\u001b[0m                 \u001b[1;32mif\u001b[0m \u001b[0misinstance\u001b[0m\u001b[1;33m(\u001b[0m\u001b[0mvar\u001b[0m\u001b[1;33m,\u001b[0m \u001b[0mstr\u001b[0m\u001b[1;33m)\u001b[0m\u001b[1;33m:\u001b[0m\u001b[1;33m\u001b[0m\u001b[1;33m\u001b[0m\u001b[0m\n\u001b[0;32m    152\u001b[0m                     \u001b[0merr\u001b[0m \u001b[1;33m=\u001b[0m \u001b[1;34m\"Could not interpret input '{}'\"\u001b[0m\u001b[1;33m.\u001b[0m\u001b[0mformat\u001b[0m\u001b[1;33m(\u001b[0m\u001b[0mvar\u001b[0m\u001b[1;33m)\u001b[0m\u001b[1;33m\u001b[0m\u001b[1;33m\u001b[0m\u001b[0m\n\u001b[1;32m--> 153\u001b[1;33m                     \u001b[1;32mraise\u001b[0m \u001b[0mValueError\u001b[0m\u001b[1;33m(\u001b[0m\u001b[0merr\u001b[0m\u001b[1;33m)\u001b[0m\u001b[1;33m\u001b[0m\u001b[1;33m\u001b[0m\u001b[0m\n\u001b[0m\u001b[0;32m    154\u001b[0m \u001b[1;33m\u001b[0m\u001b[0m\n\u001b[0;32m    155\u001b[0m             \u001b[1;31m# Figure out the plotting orientation\u001b[0m\u001b[1;33m\u001b[0m\u001b[1;33m\u001b[0m\u001b[1;33m\u001b[0m\u001b[0m\n",
      "\u001b[1;31mValueError\u001b[0m: Could not interpret input 'humor_rating'"
     ]
    }
   ],
   "source": [
    "sb.countplot(x='humor_rating', order=[1,2,3,4,5], data=train_dataset)"
   ]
  },
  {
   "cell_type": "code",
   "execution_count": 51,
   "metadata": {},
   "outputs": [
    {
     "data": {
      "text/plain": [
       "<seaborn.axisgrid.FacetGrid at 0x25d96d8ee20>"
      ]
     },
     "execution_count": 51,
     "metadata": {},
     "output_type": "execute_result"
    },
    {
     "data": {
      "image/png": "[encoded data removed]",
      "text/plain": [
       "<Figure size 360x360 with 1 Axes>"
      ]
     },
     "metadata": {
      "needs_background": "light"
     },
     "output_type": "display_data"
    }
   ],
   "source": [
    "train_len = train_dataset['text'].apply(len)\n",
    "sb.displot(train_len)"
   ]
  },
  {
   "cell_type": "markdown",
   "metadata": {},
   "source": [
    "## Preprocessing the data\n",
    "\n",
    "[[ go back to the top ]](#Table-of-contents)\n",
    "\n",
    "Now, we will do some tasks needed before applying machine learning algorithms:\n",
    "1. Clean the 'text' column, by removing non-alphanumeric characters;\n",
    "2. Lowercase and tokenize it;\n",
    "3. Stem and remove all stopwords;\n",
    "4. Create bag-of-words model.\n",
    "\n",
    "For that, we will present 3 stemming techniques and lemmatization."
   ]
  },
  {
   "cell_type": "markdown",
   "metadata": {},
   "source": [
    "### Porter Stemming\n",
    "\n",
    "This preprocessing technique is known as one of the simplest and fastest, commonly used in Information Retrieval systems research, where the experiments need to be exactly repeatable."
   ]
  },
  {
   "cell_type": "code",
   "execution_count": 52,
   "metadata": {},
   "outputs": [
    {
     "name": "stdout",
     "output_type": "stream",
     "text": [
      "['find ex got fat like find buck pocket life chang definit put smile face', 'brockmann stereotyp imperil nation secur real threat go unnot racial muslim stigmat violent fanat moreov claim posit well neg stereotyp prevent intimaci love flourish', 'girl run mother pile crap hand look almost step', 'gotta wonder basebal still would call america pastim candi crush around', 'dread get shower cuz lazi get like home', 'parenthood feel like magic unicorn fire eat food', 'friday night control get bit wild tonight cuz put good pajama eat froot loop couch fluffi blanket', 'know hibachi restaur waiter throw shrimp like face', 'mayb need turn unit state back', 'ask north korean friend said complain', 'karaok crowd dig thing friend throw cue worri', 'us straight queer muscular fat tall short twink bear larg small pierc hairi slim domin submiss hiv poz neg brother let discrimin among alreadi suffer discrimin', 'learn turn self doubt energi sourc metabol fear result produc adrenalin wednesday wisdom', 'disney cover make nostalg favorit disney song american idol', 'iyanna cashapp disabl updat thread inform', 'never mention becom veterinarian untangl two gees', 'girlfriend told dick two inch bigger ex never go back lesbian relationship', 'ye husband skip nation televis bit competit still kid heart beat eighth grader', 'child episod aom prior mo age chanc anoth aom episod sometim life aap tweet iatric ian', 'almost time east coast gather around minut rockin eve', 'day launch new black kid swim websit question request particip continu support black swimmer black swim parent push us becom dynam organ', 'next stay goe home back result american idol', 'first minut hot tub alway feel best hard relax neighbor yell get yard', 'saw homeless guy babbl conspiraci theori realli make sens could say vagu rant', 'almost year later still carri scar xenophobia islamaphobia use tool keep peopl countri instead memori may grow chang year may memori bless', 'sit wonder inch heel day guy look comfort women suffer alway prepar occas want pretti feet futur girlfriend next door say', 'best friend real talk', 'burn kid wheelchair today hot wheel', 'differ mass weight mass cathol go sunday weight sunda go cathol', 'condol famili difficult transit wife let send back wed rsvp card', 'surpris much learn peopl disagre', 'know someon say jesu love alway comfort unless mexican jail', 'white posit black must nigg', 'us flag moon lost color complet white french flag', 'scratch win ticket look like scab pick see', 'differ blond airbu everyon airbu', 'sex waitress suck take tip', 'differ husband wive wife say need talk someth chanc good say need talk someth chanc follow fart', 'respect children forc homeschool start drink heavili morn', 'anoth name boxi plow pull babi maker mexican', 'respect partner hold tight man inde show much love real gay love hard haaarrrrd find lucki found one', 'readi workplac drug test today stay night studi street drug ask anyth know meth marijuana special k even coke tri help stay awak', 'yo thirsti husband get water yo want get point asleep', 'contest make next round journey get start take judg note make us proud wait see take hollywood week american idol', 'cowork believ end novemb alreadi unsurpris passag time ye', 'compar boyfriend ex want like ex want compar ex', 'alcohol influenc short term memori alcohol', 'noth meant stop anyon greater simpli believ doubt death dream monica brown', 'wonder famou person high school morrow high school ellenwood ga class', 'blind man worst fear priu', 'made halfway mexico realiz siren come song radio', 'switch gear insid dolbi theatr usher final moment big show abc tune oscar', 'momma hawk say chick quit falcon around get flock outta', 'famili watch paramed work get back dunk foot rim heaven', 'hey brand need post ok take day pick back pillsburi doughboy tomorrow whether chester cheeto terror question', 'hard dress yo given wear pajama day dress want wear underwear head pant shirt realli care anymor girl', 'light recent blond joke blond joke short men rememb', 'call peter pan china peter wok', 'love someth let go come back might boomerang bro love boomerang', 'mia rememb went thru dumb phase mia day like whole minut keep young', 'yeah believ premarit sex p parenthes r e expon multipl r divis addit l subtract e x', 'realiz wrestl fake undertak known dead man wear knee brace', 'scientist say dolphin may even smarter human be funni rememb ever get head caught plastic ring six pack come', 'imagin put work effort kid make sure becom decent peopl grow funni', 'muslim girlfriend want blow excit call cop', 'miss kidsi wait see spark eye see natur anim mai green horizon volunt power jnf love grow israel green horizon', 'heart sink think children unabl bath sleep floor shake core polit post care vote record side line live import treat human be human', 'call guest bedroom appropri name would room sleep wife sick snore', 'commun outreach gener commun empathi compassionw work spread rather fear stress ayelet shmuel head clinic center resili sderot power jnf love grow israel', 'call three car overtak mexico tre passer', 'homeschool go great cri bathroom twice today', 'man sadden news pass bill wither condol famili love one wake almost everi morn listen love day bill music continu make world better place live forev rest easi legend', 'bless peacemak call children god matthew pray charlott', 'edward carmack statu sit state capitol torn last week protest state tennesse vow replac', 'consid medic condit complic import consid role mental health play identif treatment', 'found father sister like jewish peopl hard believ rel aunti semit', 'wife town run morn routin today learn lot exampl appar two kid', 'craziest thing adult fall asleep couch know gonna wake ach back still gotta shame walk bed', 'call gay dentist tooth fairi', 'normal take kid playground alpha male today nine year old pretti intimid', 'follow heart forget brain', 'hey guy tech glitch back strava shortli may need refollow sorri', 'tornado redneck divorc common end someon go lose trailer', 'organ lack true divers unabl empath experi racism ill equip respond sincer effect action thank blackswimm alway support group', 'modif extant polici still problem prepar meet person respons overse polici gather read dress code classist sexist racist explicitli practic enforc', 'yo like unfilt drunk peopl love gummi fruit snack', 'real man choos honor love respect ador faith one woman', 'black tran peopl right self determin vital surviv black tran peopl health black commun larg addit food provid fund name chang surgeri cloth help black tran folx live term', 'two control firefight hold xbox im go back', 'tag us repli resourc updat need share black tuesday', 'richest man one own one need least', 'two dyslex walk bra', 'blind man walk fish store say what girl', 'differ type hug keep chest well kind hug suggest fact love much', 'help us along way grate instead focus fail valu potenti black kid swim choos remain grate recogn champion priorit black swimmer', 'black peopl syndrom call friend chromi', 'thoma dolbi blind scienc neil degrass tyson technic true specif pepper spray', 'solitari confin suppos worst psycholog punish prison inmat confirm lock small kid wors', 'want thing brain expens get bore two week make happi brain ye want happi long term day alreadi bought brain son', 'studi shown afram believ depress mental disord sign person weak stomp stigma', 'awkward moment watch porn girlfriend walk wish told work industri', 'rose red sunflow yellow hpv vaxx prevent cancer whether gal fellow vax fact februari health polici valentin vaccin save live', 'parent want get tattoo parent disgrac famili', 'jewish girl ask father dad dollar say dollar need dollar', 'nice thing age need impress everyon anymor part', 'ass quit rest given almost immedi', 'someon ask attract qualiti said lasagna', 'give man jacket warm winter teach man jacket leav hous', 'play drum steer wheel slow know tricki part come', 'hear basketbal tournament mexico juan vs juan', 'comedian politician basic lie pleas audienc haha', 'hillbilli say sister ask sex incest', 'ever visit japan first thing run paper wall pretend kool aid man', 'waitress sure want ambul come way mild', 'remind start look post wifi password famili come thanksgiv next week', 'thank let us share robertson heritag experi actual part german next mayb oktoberfest wish think', 'wow august fli agre disagre', 'mean seemingli neutral rule discrimin practic rule prohibit everyon wear short skirt explicitli women disproportion affect similarli ban loc disproportion impact black peopl', 'way see asian peopl drive got think pearl harbor might accid', 'fun shower know marriag hard work pleas join famili pray johnluk maryk commit forev', 'write obituari take full page ad conclud grade peopl like grade', 'imagin card get declin red lobster lobster tank front start laugh', 'final perform take come next american idol', 'follow dream dream get creep call polic', 'declar safe tell wife calm incid earlier even', 'hide kid closet peac eat cooki hear walk around like bunch dea agent tri best destroy evid bust', 'alway great guy know next chapter life amaz congrat keep crush', 'second show alreadi get emot american idol', 'challeng time full uncertainti team find hope solac love read invit join us find commun moment joy share read hashtag book connect us', 'lol ppl see race right start make belov fiction charact black th centuri anthropologist', 'find neici nash queer best thing happen year', 'good relationship worth wait note good morn', 'call homosexu man wheel chair human', 'sometim mind busi save heartbreak', 'latin teacher tri get close translat approxim insignific omn no humilem close high school languag', 'ask help start convers let talk one anoth listen one anoth help black mental health matter', 'china label read made someon know', 'advoc began protest lgbtq movement gain justic protest stand belief polic brutal must end black live matter stand right protest georg floyd toni mc dade black tran live matter', 'ladi massag parlor ask want happi end said ye proceed tell plot homeward bound', 'straight men make fun guy get pedicur liter hobbit feet like go back shire oakley', 'convers mom tri figur stori', 'court thing illeg like roommat ate rippl butterscotch rippl', 'world dalla work encount publicli racial divers lot peopl mix race book abound food beverag skin color descript non white charact two dalla boss dark skin men women ambit white', 'kid say mom tone kinda make want scream somehow keep composur use nice mom voic instead', 'order strengthen relationship wife decid go say posit thing exampl today told realli good leav dishwash full dish', 'peopl go gym exercis complain park one block away walk explain', 'hear blond stay night see sun went final dawn', 'everyday gay guy get hiv treatment live healthier live take care health manag hiv condit sick wait get test get treatment hiv death sentenc hiv aid', 'black men shot polic mass steril border concentr camp billionair roll dough million starv environment protect roll back racism antisemit homophobia islamaphobia conspiraci theori mani front must fight', 'peopl troubl sleep eye close haha', 'give particip ribbon kid give adult year old get motiv go stuff big deal', 'belong use other ex wife', 'got new neighbour thought take week move turn work u haul', 'cell phone work get touch cousin new york citi one work close twin tower circuit busi tell parent okay us shaken traumat', 'gassi joke make mexican gassi taco night make white person gassi chipotl make jew gassi auschwitz', 'ignor sign heart attack broken bone ignor sign mental ill take care brain mind stop stigma', 'perfect want tri perfect monday motiv', 'roll window time machin mcdonald hot dog guy yet bud', 'shake momma gave darl snowglob ever seen look', 'peopl sometim unintent claim other idea b c forgotten assimil sure scholarli commun hold account whose work allow pass convent wisdom public domain insist credit', 'girl never know want boy never know moral stori relationship grown folk busi', 'fat guy mcdonald like muscl guy gym peopl stay way caus know mean busi', 'hiv move still live stigma retro wrong hiv retro world aid day', 'what hardest part veget eat wheelchair', 'pretti racist denzel washington keep get typecast black men', 'gender social construct u guy fieri u type fieri u want', 'go femal friendship today life complic compris ladi girlfriend next door', 'congrat c sar keep great work', 'morn went bathroom without phone entertain like ancestor use', 'articl particularli interest connect racism psycholog physic health problem', 'min til kick idol readi east coast american idol next idol', 'differ lightbulb pregnant woman unscrew lightbulb', 'search area coffe shop googl map ok search entir eastern seaboard want right area googl map huh search coffe shop area googl map hous want see hous', 'cherish pain experi cherish joy without one make us aliv think import gloria vanderbilt gloria vanderbilt rih girlfriend next door', 'yo want banana give banana yo soooo banana yo banana want banana yo well want yo cri know well make progress', 'brush teeth finger cramp throw middl finger look mirror gave finger stop vibe', 'thing go great life right life interrupt actual', 'approach person busi renov without right partner corner encourag also tell hard stuff someon brutal honest monday motiv', 'superman wear medic alert bracelet say kryptonit', 'get peopl make big deal reveal gender kid surpris know babi burn world reveal give birth unicorn cuz shit crazi seen unicorn', 'connor today mia anoth school aw cute mia mom anoth normal disgust middl school boy th grade', 'fat guy give fat girl tip', 'wife doggi style play dead beg', 'first thing get restaur pull pen paper write question menu', 'amaz dad thank happi father day', 'august st omg hot septemb st wear heaviest sweater drench sweat love smell autumn air', 'come pick toy yo walk around plastic phone meet call time chang', 'tini peni joke tend come littl short', 'wife deathb grab phone open group text hamchat ii tell boy love em', 'friendship failur prevent need tuneup time time save frienship girlfriend next door save friendship friendship friendship counsel', 'bald peopl struggl improv seem come anyth top head', 'still last today pain loss shock come shame allow countri turn nation jingoism islamaphobia two endless war miss mark unit like got angri made angri decis', 'realli talent group ever american idol', 'black cat ate four leaf clover good', 'ultim take cogniz larger social norm discours critiqu anti muslim bigotri anti black racism brockmann emphas individu inner transform result intim human connect across racial ethnic differ', 'normal kibbutz close famili spend lot time togeth close playground still touch commun zoom tal hakim dromi secretari kibbutz pelech power jnf love grow israel', 'usb port could talk ask one question yet', 'think order great busi like product sell money get', 'eminem convert islam muslim shadi', 'black tran masculin barber ny ya tryna sumn', 'argu politician less corrupt like argu pile dog poop smell less disgust', 'fill form receiv email correspond us confirm food bag', 'would rather abl speak everi languag world abl talk anim stray question', 'got everi time woman said type type', 'break news uncov nazi document reveal cure cancer found oven rofl', 'wanna hear joke women right', 'chick realli knock sock finish fold stack', 'easiest thing free antiviru softwar new comput expir buy anoth new comput free antiviru softwar', 'call prositut period unemploy', 'somewher elderli ladi read book use internet young boy googl read book', 'jewish nation fund gift annuiti program one largest countri matt bernstein chief plan give offic power jnf jnf demand', 'amaz jnf project israel hal linden emmi award win actor power jnf jnf demand', 'first hhd ten freakin year go pulpit', 'call useless piec skin dick man rofl', 'listen care mental health matter take care mainli', 'gave girlfriend teeth whiten today bad land chin', 'groom song walk aisl well like chicago bull intro', 'social media great time want go somewher overcrowd like costco mall still feel like annoy lot peopl', 'hear fat guy spent free time british casino heard fast way lose pound', 'heard steven spielberg direct film fat alien call eat extra cholesterol', 'black white love kid michael jackson', 'kid soccer coach game cancel racist tweet parent twitter rain think', 'mani peopl know exist vs live told today life live exampl joy life well live', 'ask boyfriend pretti scale', 'tri start convers marri ten year nascar could get work six minut', 'hey girlfriend may go overlook overbook girlfriend next door', 'govern like friend say want help mooch make life harder', 'bought wife differ mouth guard snore work great go bed shove one ear bare hear', 'sens heat presenc parentsw name first daughter honor mother emot chang daughter tragic car accid yossi ron chairman organ children kfar etzion yom ha zikaron', 'sure space explor import discov zero waterpark meanwhil earth dozen waterpark', 'anyon think fan e sport less valu fan tradit sport wrong equal stupid pointless', 'stand right next god hate fag guy sign say pleas ignor ex boyfriend', 'send get burger fri eat fri car gonna drive alon car fire eat', 'oper qualiti assur call record okay cool could get copi oper', 'point kid play last game tag kid end tag career get goth', 'straight guy pleas hit bro gay stuff worri even type straight guy straight guy like type bro', 'ask yo favorit thing togeth paint slime make said watch movi think put way much effort parent thing', 'abstract american imperi war terror loom larg today popular romanc militari romanc featur spec op warrior terrorist enemi appeal reflect sometim critiqu patriot ideal', 'realli like give massag think grow misogynist', 'mani homophob take chang light bulb afraid chang', 'spite psychot murder tell freddi kruger want us know play fun love guy goe freddi instead fred frederick', 'rememb still man gay make less anyth man', 'blond die rake leav fell tree', 'wow search jew twitter end report account without break sweat', 'fuck wife make fuck', 'never abl solv greatest problem think use creat', 'team rocket ceo put motto agent protect world devast ceo nobl love agent unit peopl within nation ceo beauti agent denounc evil truth love ceo jeremi go divorc pal', 'see slow black peopl jail', 'homeless peopl half poor wast money sharpi cardboard', 'fun fantasi footbal leagu fella bought differ brand cinnamon broom go rotat see best one', 'stay internet watch show tonight spoiler come', 'man wheelchair say return hat borrow thank handi cap', 'dear idiot homeopath homopath homopath like crazi gay dude', 'anyon els cri proud girl dad moment american idol', 'get older eat day feel like enough food three day meal overwhelm digest system also abl control weight better eat day three meal much girlfriend next door', 'breath bunch helium balloon step scale cri high pitch munchkin voic', 'interest work want know ach dare dream meet heart desir interest old want know risk look like fool love dream adventur aliv', 'april natl minor health month great time evalu mental health', 'west coast found remot flip channel american idol abc', 'first time ever florida nice peopl thx', 'made game kid call take nap get ice cream dinner guess one eat ice cream', 'black american like white self identifi experienc psycholog distress someon ppl turn', 'hour commun rais nina pop toni mcdade fund match okra project k committ bottom heart thank see thread inform fund way get involv', 'heart heavi lose husband child tragic unforeseen way hurt vanessa sure shoulder heavi cannot imagin pain feel husband legaci live gener come rih kobe rip mamba', 'gay pride parad straight pride parad tri peopl kept think checkout line home depot', 'open polic well felt alon sinc girlfriend left sad time door open door', 'pizza place guy flip spin air girl im date kinda cool probabl trick dough', 'ceo milk need new slogan got delici white juic everyon love beverag call milk ceo milk mayb someth shorter milk ceo milk probabl littl longer miiilck', 'notic tini part wrapper stuck granola bar ate anyway like goblin', 'run cant hide coach tell make hide seek team', 'feel sorri peopl like close mind still think offens call gay first time speak publicli topic despit close friend famili known year', 'imagin card get declin chuck e chees feed robot band', 'also guy make sure hold hand much possibl lt boyfriend tip', 'also want thank recogn actual race african american commun reach senegales commun come togeth uplift protect one anoth strength uniti', 'gay never evil determin shrewd wick good gayadvic', 'punch card reward system liquor store th case beer get free intervent', 'mom came gay affront god mom year later teach anal spice sex life', 'dorado new co host bolivian program abi ayala tv cover lgbt issu role comment experi transit tran person big step bolivian tran commun congratul leoni', 'peopl spark vision life hold dream head heart never go come true monday motiv', 'yo wrote song call mommi high favorit song taller', 'high kite slurpe thick employe slurpe fill cup full pump chees', 'cop snif road get vehicl put much hand cream tri', 'black peopl eat fri chicken tast good', 'hous full w kid home sofa full w sleep friend cook st big meal holiday happi thanksgiv eve', 'black man buy box condom practic safe sex sale', 'kinda laugh', 'flood inform yet ignor ever', 'fajita taco peopl crave attent', 'canada poke hung america stick wake buddi made pancak mapl syrup', 'sorri smash window left chocol bar hot car rescu', 'start day well focus mind posit direct plan mind mind today deni neg power ruin today', 'bradenton florida later today say goodby dear friend', 'jesu take wheel moham strip hubcap buddha search glove compart valuabl', 'god love everyon know book hold yell gay peopl', 'splash bunch water crotch area pant shirt peopl work know wash hand', 'ask capitol commiss tennesse histor commiss pleas consid implic hurt would continu fight monument', 'failur defin us prepar us succeed wednesday wisdom', 'one group peopl dumb enough believ astrolog scorpio rofl', 'road success alway construct', 'two reason never let girlfriend touch iphon iphon girlfriend', 'see neighbour trash recycl bin curb pickup keep track day week', 'call black man fli plane part pilot racist call japanes man fli plane pirat', 'btw want know world without net neutral feel like inform priortiz compani charg see thank fcc fb insta perfect case studi right nice thing', 'end day peac mind matter homophob', 'make friend two month becom interest peopl two year tri get peopl interest carnegi dale', 'like song stairway heaven impli heaven wheelchair access', 'black competit swim skill clinic feel motiv', 'yo ask wrap like burrito feed grape hold watch cartoon live dream', 'jepandjessica grow dynasti famili keep grow grow duckdynastya', 'vampir hunter kill vampir invit hous serv garlic bread one resist stuff', 'rememb earli day internet go chat room scroll screen stranger yell random thing amaz much chang sinc', 'boy attract girl someth say girl confid strength', 'wife even get cotton candi w blue stain mouth drop wed photograph doin wha', 'chick big tit alway seem say right thing', 'stop describ situat word send gif like normal person', 'wife favorit posit cat style sit feet away matter mani time call come near', 'wife want beer sure aw gener wife well want drink alon', 'bewar emot fraudster folk take advantag love attract invest time money realis scam often appear loyal love guard heart gay advic', 'youth snapschapt like young ladi draw proper pictur genit send parent', 'call group mexican smoke weed bake bean', 'girl said want babi invit look happi told put bed went', 'children gay father parent serious sympath easi grow twice dad joke', 'know complet trust husband clean kitchen clean anyth', 'advantag gay black guy gay white guy come mother', 'super disappoint find sexagenarian someon awesom career option', 'bad news longest day year good news friday summer solstic', 'kind famili thanksgiv one', 'way respond individu everyon kind messag mom realli know say armstrong small famili realiz big beauti twitter famili take breath away', 'muslim black guy hors pirat gay chicken rabbi walk bar bartend say kind joke', 'stevi wonder see friend marri see come', 'yo gave babi morn walk around around hip like min know', 'matter bad thing get around world never ruin enjoy get put cold hand wife back', 'pretti cool everi get experi everi emot like ahhh omg pleas stop hahah', 'dad', 'world scari place hug children tight hide bed stay dust settl', 'everi time go aquarium employe make sea life fact attempt catch guard make look foolish well work dolphin breath air grow octopus beak fuck liar', 'cashier groceri store flirt husband littl mad even give discount', 'look interview essenti worker look nurs groceri store cashier ride share driver especi outgo tag someon love', 'advis partner meaning gay relationship run health check know std statu fit level give peac mind clear doubt', 'tri come idea tshirt cool someth year old wear got far one say eat peel', 'happi girl travel happi girl travel best way keep smile face contstantli stretch comfort zone see world travel open mind thought perspect girlfriend next door', 'three thing know canadian watch hockey sorri', 'pressur stress bear cope talk resourc take advantag get plan mn tl hlth', 'parallel univers zebra walk around contemporari decor hous top skin blond chick big hoop rug', 'yo understand make lunch right pm still awak', 'yo threw grape floor said vacuum eat know vacuum alway full someon feed', 'wear croc like butt sex guy feel realli good look realiz gay', 'goal k day challeng rais sustain expand intern groceri fund hire addit chef winter maintain storag space continu okra outing black tran folx continu expand okra seri', 'son get gun protect look jar bee check room', 'blond tipto past medicin cabinet want wake sleep pill', 'reason womansplain thing men respons figur women mean roll eye sigh say noth us', 'let chicken rest cut juic go everywher trick treater come back', 'guess call creativ journey life alway creativ process simpli love creat girlfriend next door', 'definit conserv proud american thank heart grate freedom place like home happi juli th', 'yo throw grape floor yo vacuum told stop feel vacuum yo walk start eat grape floor yo see vacuum', 'forget get vote time tonight via text american idol app websit use last commerci break idol final', 'blow globe go one asher curricula blew today first time noa grab asher goe hold pole noa kid', 'admir parent utmost respect personalitiesi deep sorrow know person yossi ron retir isra air forc colonel chairman organ children kfar etzion yom ha zikaron love grow israel', 'kid realli strengthen marriag wife never common enemi', 'yo ask want lay couch take nap watch movi realli scare dream kid burn hous sleep', 'price anyth amount time exchang', 'could travel back time time period would go stray question', 'like get forc wife go children birthday parti easi solut bring beer offer kid report polic underag drink get parti shut', 'daycar provid care kid love kid around keep young kid know age least year sinc start children year ago yeah', 'call woman miss period fuck', 'pussi slit verticali horizontali clap run', 'yo broke pinki promis yeah yo trust', 'peopl call delusion let bother high iq million dollar god like physiqu make feel better', 'forget pick cotton pick tobacco time make smoke histori black histori month', 'jesu multipli loav fish feed peopl min later discipl hey jesu peopl complain fish sandwich dri whip someth put jesu say miracl whip invent', 'black white red interraci coupl get deserv', 'best present god one approv asham correctli handl word truth timothi', 'priest ya doin demon oh yanno priest wanna get start demon sure priest leav brent bodi demon nope', 'spend much time buy thing need impress peopl matter', 'speak today repres orphan kfar etzion yossi ron retir isra air forc colonel chairman organ children kfar etzion yom ha zikaron power jnf love grow israel', 'black peopl get phd get past master', 'girl like restaur order mean look menu', 'women date younger man call cougar man date younger woman call defend', 'email parent fw fw fw fw fw fw fw fw fw fw fw obama muslim', 'teacher ask class everyon got syllabu jimmi rais hand said took bore short bu school', 'serotonin flow citi today weather', 'man visit prostitut man say want sex also want hit prostitut ask long man repli money back', 'cow milk incred low skill job jerk', 'brag get full hour sleep still look absolut exhaust wake morn', 'great time kid blair e batson hospit children art craft today thank sanderson farm championship', 'cours consid friend guy carri karaok guy carri karaok ok thank', 'vote inform regist voter shown today come peep privileg respons dont complain', 'mosquito net africa could save million mosquito die needlessli aid', 'annoy engin student call engin hear medic student call doctor art student call barista', 'count bless problem', 'like author sheikh novel brockmann appeal knowledg relationship mean overcom prejudic yet rather white femin integr arab muslim middl eastern hero neoliber modern', 'boss think daydream end capit spreadsheet stuff', 'asian friend came asian friend came dad today said dad gay dad angri moment said gay', 'netflix still watch ye reach remot go sit silent contempl', 'mani men take open beer none beer open time brought haha', 'mani jew hitler kill nein thousand haha', 'nice thing wife look paystub', 'saw deadpool thought amaz could possibl pull mean must exhaust comic book movi joke yet dp look fuck incred', 'gonna get dress halloween year involv get dress', 'blind man cross road cuz see', 'black jew say non believ israel', 'love enough also need respect appreci commit', 'dirti white shoe get throw stray question', 'go like wife coupl sit side restaur booth weird imaginari friend sit side', 'comment stori fail led succeed wednesday wisdom', 'insid chicken warm soon egg come chicken like ya gotta keep fridg', 'ye plagiar bad sometim deliber still primarili individu bad actor blame widespread citat laps build commun valu engag convers instead reward name drop fetish origin', 'woman sleep men slut man gay definit gay', 'great time kid wolfson children hospit commun pedscar player championship', 'happi canada day heart homeland', 'want magic unicorn gain weight eat lot food', 'gay relationship fun drama attitud noth like perfect relationship anywher learn compromis ego hold mutual love respect', 'ancestr trauma give us pass make us oblig lilli sher best sentenc heard year jew commit social justic', 'boss think homosexu diseas call gay tomorrow', 'would say worri peac heart mine matter selfish', 'motherhood complic share whole bodi kid snack', 'social media weird like cool thing friend also worst thing go world enjoy tri sort emot', 'u insinu fat leav selfish think babi babi oh pregnant', 'current circumst determin go determin start', 'saw fat woman lick ice sleev last time eat front mirror', 'call fat irish famili bese', 'put love bind virtu togeth perfect uniti thank col wonder thanksgiv day', 'miss authent mexican restaur experi margarita pleas margarita', 'hey nyc okra projectni anoth theatr outing weekend take black tran gnc folx see strang loop playwright horizon hit us like go', 'date went swim ocean eyebrow wash look surpris', 'gambl addict ruin marriag also save broke afford divorc', 'daddi look ninja billi offend muslim rofl', 'much bicker backbit gossip betray imit stereotyp lgbtq commun unhealthi commun let preserv sanctiti', 'constantli told straight act gay person part stick thing butt straight act peopl', 'cannot direct wind adjust sail', 'learn yesterday yesterday allow give clean slate past past show learn use gift posit inspir other girlfriend next door', 'detect dead wife oh god believ drank windshield fluid detect narrow eye never said poison wife liter educ guess', 'build dream requir vision budget skill architect great contractor commit team win', 'direct home googl map differ rout avail oh cool shorter googl map minut longer oh googl map found one toll cool googl map clear schedul motherfuck hour longer', 'quit urself hurt urself u worth world nobodi want see u suffer end way u feel right pass peopl mind chang thing get better love u alway u shall pass', 'yo told chill young kick hous', 'everyon meet fight battl know noth kind ammunit', 'histori written victor write french histori textbook', 'take foot massag coupon marriag coupon book wanna redeem one ex wife pick son brent', 'still nightmar time gave eskimo friend hous warm gift', 'snapchat attract older audienc offer face filter take away bag eye', 'hear lot mass murder late must scari time cathol', 'afraid text first promis like', 'cannib prefer eat blind peopl one sens gone tast realli good sorri wrong tast realli well', 'teen work subway gonna get troubl manag tri pass baggi duck meat distract richard', 'smile logo person busi card leav other feel experi becom trademark', 'like men like like coffe nowher near vagina littl lesbian humor gay resist good', 'haiku fuck fuck fuck fuck fuck fuck fuck fuck fuck fuck fuck fuck fuck fuck fuck fuck fuck', 'eat shower lie kid', 'call mexican stand yard hold hand spicket fenc', 'yo like person narrat sometim make cri stop narrat', 'make sure compliment insecur easi mean lot lt boyfriend tip', 'stop buy new parent junk gift go use buy bag reduc eye cream', 'facebook timelin say join coupl decad born accomplish know', 'love mom work raptur casual convers talk work casual goe ever disappear raptur need immedi come hous read bibl save like ok love bye', 'feel bit late husband final came clean tonight contact friend call get hous etc best husband friend good liar', 'italian spaniard use cathol child abus call pope daddi', 'gun violenc kill black year tobacco kill black year end spread truth make smoke histori', 'hour midnight parti us send pic rockin eve', 'what differ jelli jam jelli dick girl ass', 'although problem risen lot opinion seem men prefer kind women make first move', 'peopl post tweet spell mistak total looser', 'heart diseas condit disproportion affect african american', 'consid lucki life cognac drink older woman sleep', 'get lettuc instead bun guy work subway doin man', 'use car salesmen alway get weird go test drive put ski mask make quick stop bank', 'call hypocrit member church latter day saint oxi mormon', 'today nation teacher day shout ou teacher continu educ inspir difficult time thank go beyond guid mind futur', 'yet world clearli taken one sort chang explor length simpli omit racism pictur apart isol opinion express coupl retrograd bigot signal utopia much fail attempt color blind', 'school good teenag fell asleep one zoom class today', 'got cent everi fail math exam', 'next audit shock judg best way possibl american idol', 'happen emin senior white scholar imagin much often junior scholar especi black women women color', 'organ forum event compani love black swimmer work tirelessli ensur succeed black swim commun alway back go anywher', 'first celebr crush stray question', 'tonight disney famili singalong vol dedic amaz mom sit back relax enjoy show', 'billionair invit island load rifl passion danger game nod gun monopoli billionair hunt oh ok billionair probabl go without', 'shoutout parent famili friend drop everyth show support audit bring much love everi citi go american idol', 'surpris know far go point thought end', 'see friend win proud good friend', 'send love condol famili forev grate known rip', 'black drunk god way tell drink none busi', 'app like tinder instead date match stranger area argument', 'non male scholar plagiar uneth use other work seen usual women work rare ever men male scholar plagiar uneth use men work told rare usual earli career', 'winter olymp event time athlet see long take get spandex suit', 'mayb tilt head side understand english dog', 'also rememb came togeth new yorker day incred kind stranger made sign help find miss love one donat blood wit men women risk live help one anoth', 'cat push glass tabl internet cat jerk dog destroy entir live room internet will overlook', 'gf someon cheap bad temper arghhh grab lamp place side wall', 'lot women would rather beauti brain lot men see better think', 'cute call thing wrap babi swaddl liter straight jacket babi crazi', 'sm code senior btw bring wheelchair fwiw forgot lmdo laugh dentur wtfa wet furnitur', 'anoth dad pretend switch insur info laugh bumper car oper back car', 'still singl still yet discov truli want man past relationship less drain still recoup', 'know picnic gay men hot dog tast like shit', 'ideal temperatur food temperatur paper come photocopi', 'north korean lack emot miss seoul', 'armi brat continu love shine light veteran men women current serv militari let continu work togeth honor hero veteran day', 'cat possess date haha someth british date cat ello luv', 'togeth', 'almost like gotta keep busi random thing like fluf pillow eat', 'someon told believ dream listen god told someon need think better god call', 'embarrass accident call teacher mommi especi adult learn class', 'main job husband tast thing wife think tast like gone bad tell tast bad', 'need direct pleas stranger need go north left right stranger littl complex cri left right', 'muslim christian jew walk bar think one would seen', 'corn maze employe smoke flick lighter stand back pop way', 'look show biz sometim power get job done american idol hollywood week', 'say whoa girl like talk hors good way calm wife argu', 'neg mind never give posit life quot day inspir', 'belgium lead produc beer chocol weapon pictur countri full well arm fat peopl anoth one mean', 'look forward discuss futur research anticip provid specif import factor chg trend', 'give tuesday day support initi fo work better world around us okra project strive better live black tran peopl food fellowship hope includ us give today help us continu work thread', 'yo ask boob gone drank babi said ye', 'mcdonald ceo self serv checkout hmmm trick peopl work cashier free market exec make checkout look like giant phone moron abl resist ceo market exec erupt evil laughter', 'parent marri coupl kill isra soldier histori state israeland year later met mother sister yossi ron retir isra air forc colonel yom ha zikaron power jnf love grow israel', 'want mysteri death solv podcast', 'recent cathol hair stylist made news travel around slander pope catholic anger mani member faith pope denounc call hair tick', 'wheel milwauke rec local coffe shop great dark roast gonna need', 'got fire put peni pickl slicer restaur work got dock week pay', 'halloween costum idea soccer mummi welcom', 'favorit tonight american idol', 'know need hear stop tri take pictur moon alway suck', 'saw husband mop floor turn hard', 'accident ate cat food today bad news tast terribl good news coat bodi hair never healthier shinier', 'chick disappoint mother crack', 'wife mother law yell martyr eat kid low qualiti waffl make scratch adult', 'tip sound like professor african american studi rhythm flow', 'dad told gay didnt believ dad comfirm', 'call sometim homosexu arctic bear heavi mood swing bi bipolar polar bear', 'nicknam parent use call stray question', 'worst part haircut take cape stop give finger', 'brockmann displac set social reform fiction middl east america signal prejudic crucial threat america safeti well individu well', 'st centuri delet histori often import make', 'wife said get hobbi meant like golf whatev make anoth batch prison wine like', 'dont need legisl fall love legal illeg gay love love brew heart two boy men', 'jew christian muslim walk bar holyland hey could happen friday saturday sunday', 'progress love weird first fall love get marri coupl year later jointli decid ruin everyth becom caretak tini peopl least year', 'anyon els feel like pointless post instagram anymor sinc algorithm go keep peopl follow see anyway even might week later even hate us', 'tell god man woman god woman would made semen tast like chocol', 'brockmann simultan deploy undercut stereotyp muslim men appeal pro american sentiment', 'career lumberjack cut exactli tree know kept log', 'never becom need remain', 'see thing way see way', 'got fire antifa today show late ice coffe suppos help shred document hide evid fbi', 'other know experi match conclus articl link racism mental physic health problem', 'happi birthday america today celebr thof juli', 'tran men men', 'destin distanc keep mind road travel may scenic rout learn lesson along way', 'ever open wrap present name stray question', 'husband make best meteorologist use wrong time', 'anniversari come friday anniversari marri year realli year count dog year wife bitch', 'convert celsiu fahrenheit doubl celsiu add thirti convert someon mormon doubl wive add kid', 'vike believ reincarn hope die bjorn', 'prove anyth anyon follow heart concentr want say world run world leav mark beyonc girlfriend next door', 'charg littl lawyer eyebrow ring know', 'hitler kill saw ga bill', 'kid eat mani gummi fruit snack pass like drug dealer give minut silenc shhh tell dad', 'never gotten runner high gotten high run think runner tri get rest us run gonna get high gonna ice cream weed couch like decent person', 'jnf start listen student student love opportun take next step someth bigger maya rosenberg ohio state univers student jnfnc', 'anyon els wonder perhap close mental institut bad idea social media desper need mental health care run wild free feed conspiraci theori paranoia spread around world', 'alway love movi dark citi watch director cut first time much better way less choppi stori fit togeth linear way one film watch lot pick someth new time highli recommend', 'note wrote death said sibl tri surviv fail forgiv friend experi cruel weak resist forgiv world extrem cruel forgiv rest peac sarah', 'give anoth chanc forgiv let go give better chanc', 'song hate day gave hard time guitar hero', 'everyth relat woman mouth shut leg open', 'mother law bitten dog yesterday fine dog die', 'tomorrow begin natl minor mental health awar month make plan get involv take advantag great info', 'found bunch fruit snack wrapper yo bed idk worri', 'wonder sometim men truli want independ abl truli thing without focu happi truth relationship girlfriend next door', 'mother patienc worth father wallet', 'women critic found actual enviou freedom confid abil love other ygfnd', 'palindrom kind mood today reason', 'hang kid good time alexa play music sudden wap come yell alexa stop alexa stop yo yo learn lot new word today', 'step wet spot spill yo pee water pee water yo yeah mayb pee mayb yo yeah mayb', 'perfect song choic shayi winn thank share stori us gold insid americanidol', 'feel realli depress due attack pari phone islam samaritan said feel suicid got excit ask knew fli plane', 'kid exhaust morn energi good vibe', 'pretti sure chick drive thru repeat take number two multipl time could laugh', 'hr unconscion attack right american disabl set us back year oppos legisl', 'compulsori boyfriend gay singl equal normal', 'anyon els want give mom big hug right american idol', 'read box chocol legend close mortgag', 'bite lip oh doctor sick take care doctor check chart look like got chronic case sex oh wait minut wrong seduct wink doctor insur get fuck offic', 'worst thing go offic christma parti go look new job next day', 'alright let start show american idol', 'thought jase would embarrass willi take embarrass whole new level worri jase last call', 'marri tip take wife valentin day forget use coupon caus save money sexi', 'enjoy spend much time w past week mia mom bet thought get nerv brave mia', 'wife blister hand use broom day husband well next time take car silli', 'teach without teach everi time accept unaccept girlfriend next door', 'grain call sister momma bread', 'learn turn self doubt energi sourc metabol fear result produc adrenalin wednesday wisdom', 'appar man bun invent french canadian mean accept call gar brioch', 'kid figur manag emot go lose', 'life alreadi full stress relationship must drama quarrel petti fight', 'may say rest bitch face think rest face lot kid alway tire', 'date vs marriag date keep candl around bedroom creat romanc marriag keep candl around bedroom get rid fart smell', 'call hot chick boston tourist', 'like snorkel surgeon explain breath tube ye sure', 'name would say lead caus poor mental health black commun come let us hear', 'guy think found cure aid requir magic johnson', 'husband start laugh husband still laugh funni husband alreadi want put kid bed', 'scientist say today longest day year actual wrong longest day year everi monday', 'good bed mean sleep answer still insomnia wake tell worri', 'even like cat admir hate see onlin argu', 'finish everyth start put mind everyth get done wednesday wisdom', 'doctor new medic histori famili diabet cancer blood disord mia ye brain disord mia uncl si love', 'realli identifi tran movement first month life man trap woman bodi', 'cowork first day back vacat itali think dog bark normal fine', 'friend spent last weekend sdcc spread word val verd humanitarian coalit non profit work provid infant toddler suppli toiletri small toy book migrant children', 'husband walk hold lysol disinfect wipe sexiest thing ever seen know gonna knee clean toilet', 'glad see increas open dialogu mental health black commun let keep go let heal togeth', 'help come unexpect place open everyth around monday motiv', 'know wrong goldfish fine put cage last night', 'advic med student twitter pay student loan quickli possibl live like attend salari debt free', 'mistak newlyw make confus real person imag creat mind', 'white man arab asian walk nake bar bartend yell kind joke', 'tell woman two black eye noth alreadi told twice', 'get cross atheist christian argument', 'weird husband use safe word tell everyth bought target', 'dish porn think porn', 'lead pride month let never forget stonewal riot led black queer activist said enough enough black tuesday', 'want kid leav alon like min fart time work everi time', 'yo yell still aliv got tablet think dead pretti sure bodi say open eye everi morn', 'want throw star slumber parti women full fun game prize honest convers lot love good energi thrown girlfriend next door mayb bali thailand caribbean need decid locat ultim girl trip slumber parti', 'tear listen gener kelli speak fallen soldier thank sir servic servic son still sacr', 'week tri best practic love amaz treasur store choos love gay advic', 'want us talk relationship one thing hate indecis relationship difficult get right person gay relationship reason alway know go forget relationship', 'year old spell test tomorrow spell word probabl', 'wish hater long healthi life see success', 'much rest set gym anywher day give muscl good chanc recov', 'gay make less human demon speak stand right enough let peopl ruin peac mind enough', 'mia mom finish decor help clean kitchen thank heaven littl girl sugar spice love christma', 'honor get work incred team especi come favorit thing world songwrit swipe photo see one fav thing fluffi floofi cat', 'offer food made yo yo thank like thing flavor almost choke excus', 'world would better place passivist fight', 'black brown white black brown white brown white etc gorilla ride snowbank', 'q woman asshol orgasm usual home kid', 'rememb back good old day gener x known cool rebelli known mostli cranki complain millenni good time', 'wife son call bitch today husband littl son bitch', 'sit train morn saw realli sexi thai girl thought pleas get erect pleas get erect', 'serious get twitter order mia bridemaid dress reed love brighton wed plan excit time', 'call two femal spi fall love lesbianag', 'sure millenni soft gener outdo guy anyth gener gen x invent get kill eat peanut tough one top', 'power peopl peopl make chang monday motivaton', 'black tran gnc folx favorit recip featur afford ingredi let us know', 'even know', 'yo know got itch butt yo scratch geniu', 'anxieti airplan might crash die oh depress okay anxieti could surviv end paralyz life would even harder alreadi depress hold', 'eye blink dark wide awak ask self coffe coffe ice cream', 'rememb women like mysteri men text hairdress squid emoji', 'noth like wake discov mutant lava throat professor x prou told multipl sourc heartburn', 'hope enjoy church servic today much mine bless church famili god famili commit', 'stay tune new shave peopl punt thing later today spn famili supernatur jimi', 'often post vaccin get respons child vaccin injur explan genuin curiou parent believ child harm vaccin exactli injuri speak', 'comput crash bad driver corni', 'easiest way bridg languag barrier yell person peopl find easier understand foreign languag louder', 'travel across countri heard lot power stori found incred talent next stop hollywood american idol', 'still think time yo yell realli loud look like eleph big peni face zoo', 'share whole bodi yo share fruit snack believ', 'alway nice win arm wrestl guy younger today year old', 'minut alreadi hold back tear american idol', 'democraci work china one want hold erect', 'watch natur documentari famili loudli say mother met everi minut', 'perfect cure loneli home twitter take min see everyon argu pretti much remedi desir around peopl', 'reason someon seek help need mental emot challeng stomp stigma encourag', 'man talk dirti woman sexual harass woman talk dirti man minut', 'dear rita baga best lip synch season', 'sad know amaz man chadwick bozeman die kind gener heroic', 'streetlight burst star blink hood figur surround us wife omg gender reveal cultist hail satan union mortal shall bare child antichrist boy girl cultist fixat', 'therapist feel upset angri eat snicker bar feel better therapist alreadi shove snicker bar mouth go need minut calm', 'trainer gym exercis outsid rememb windi park lot resist train', 'miss cdc tip campaign rico doctor right', 'compar peopl compar pigeon idiot make feel better', 'lotteri buy suit movi batman ironman superman etc wear regular cloth', 'work popular hotel see peopl come stay world yet reason never seen nativ american guess like make reserv', 'everyon come across someth teach', 'bathroom text husband bring toilet paper respond send nude audac marriag onlyfan account', 'talk sinc puke floor wipe cat rude person happen perspect differ key issu intellectu acknowledg side complex debat celebr marketplac idea', 'call homosexu hispan peep tom peeko da guyo', 'interview see year say biggest weak listen', 'ten minut planet documentari netflix know im go bird fish dolphin', 'congratul long time friend sam year help battl cancer get back feet amaz person amaz heart love samfund', 'eat cooki finish milk need get anoth cooki enough milk second cooki get milk finish milk get anoth cooki cooki cycl', 'help anyon tell watch women world cup find channel golf', 'bit hypocrit way shorten word abbrevi', 'said hello feminist court date start tomorrow', 'damn girl smoke detector super annoy shut', 'today art class yo recreat poop emoji play doh yo made cut butt would say homeschool go great', 'might trigger time peopl take care famili unplug sign keep calm stay well blk mental health', 'priest pedophil rapist walk bar order drink', 'pleas consid support ptwa give tuesday continu mission help needi children famili', 'homeless man get christma cold', 'point one thought accid anymor aim blow everyon aim away messag shock fear kept look prudenti build see would next skip class stare tv disbelief', 'german vegetarian pessimist alway fear wurst', 'unto born day citi david savior christ lord luke thank father merri christma everyon', 'date breath ye swim across atlant ocean recit bibl japanes', 'speak feel sidelin speak suffer abus speak need healthcar speak need friend speak feel suicid speak hard feed speak die silenc never know readi help', 'vape pen mayb mightier vape sword neither get girlfriend', 'celebr independ say triumphantli ask wife permiss beer lunch', 'u receiv death threat suffer abus n hatr gay right seek asylum pro lgbtq countri rememb univers declar human right state everyon right seek enjoy countri asylum persecut', 'call geologist hear stone deaf', 'goe internet peopl argu everyth suck doom goe outsid bird chirp sky blue sun shine meh goe back insid log onto internet', 'mayb cat push stuff shelf countertop interior decor dread', 'count least one posit thing day even day look littl harder', 'today salut hero fought sacrif countri thank brave men women serv u militari liberti memori day', 'much fun green horizon forgot call momwhen got home mad glad much green horizon provid ofri green horizon student power jnf love grow israel green horizon', 'year old hurt come cri pick hug know hurt worri go away physic pain alway goe away emot pain hand scar life haunt well adulthood go play fun', 'uncertain book bring us comfort scare book bring us hope isol book connect us', 'india peac countri nobodi beef', 'believ tell mistak repeat decis', 'put sleep right away oper room take mask start eat sunflow seed', 'shayi winn journey start fight alreadi inspir mani american idol', 'servic dog teenag work waterslid still wait', 'big thank concern fan famili ok lot power line tree big damag home busi pray affect', 'guy act silli lt boyfriend tip', 'chines girlfriend bitchi well true eat', 'marri heal singl kill patienc choos wise', 'call mexican baptism bean dip', 'yesterday fart appl store everyon got mad fault window', 'fun watch duck command dynasti forgot good hope watch good ole day', 'alcohol comedian quit perform handl boo', 'peopl say would spend night haunt mansion million dollar scream run away moth fli toward', 'stop tell get cast iron skillet mental emot capac even know tax', 'womansplain woman explain someth obviou differ usual necessari ie find ketchup fridg wife womansplain right front face', 'tri get least day step leagu sea', 'dude could put tiniest bit effort pretend go consult actual exist peer review public base extens fieldwork analyz precis thing curiou saw clip fb', 'wors thing blind person leav plunger toilet', 'father hope kid grow better place start us parent peopl children look', 'phil spoke power messag morn save god power death hold hold us roman happi easter', 'robot someday ruin world alreadi reason take annoy captcha quizz everi time want use internet', 'let clean live room mom get home yo know much fun hmm good point', 'look team product way sorri harsh cannot call done late work three silverfish seen week one silverfish three time either way gotta step spider hous', 'yo ask could eat gummi bear breakfast said said eat like cereal milk mean knew smart geniu add milk bam breakfast', 'dr pepper come bottl wife dead', 'girl alway want', 'surpris everyon work pleasant monday unnerv someth wrong leav alon entir day', 'let known total total highlanf game pro dont hurt way competit', 'sorri thought kiss cam saw us stand line secur monitor', 'anyway welcom recommend smart piec rule profession dress workplac school context gender race class even facial neutral rule lead discriminatori outcom', 'put togeth toy tonight bike doll hous electron anyth pro year old merri christma', 'let kid win yo mommi realli bad', 'guy make sure call beauti hot pretti beauti mean much boyfriend tip', 'hinduism discourag vyasana unhealthi depend substanc tobacco join interfaith effort week menthol sunday', 'deliveri tonight complet stay tune updat', 'miss dog much sinc die paid homeless guy come take shit kitchen floor eat', 'peopl gotten point worri food come famili feed comment help mani peopl possibl read afford help recommend', 'cant girl count mouth', 'chicken cross basketbal court heard ref blow foul', 'even got girl keep work like gotten yet', 'american go toilet asian come toilet european', 'think bisexu girl call lesbian', 'day later even week later saw plane take logan fli past prudenti build held breath initi death impact smoke toxin kill em worker pain last long time', 'love confid yo love tell love say know', 'told reform jew actual jew smicha reform rabbi recogn pretti shitti thing hear someon', 'could never thank veteran activ militari enough sacrific made continu make freedom free', 'inappropri headlin mexican murder stori anoth juan bite dust', 'could go back high school know peopl would like old man teacher someth', 'focu rainbow thunderstorm', 'indian work principl rocket mean aim sky mean start work unless tail fire', 'bring women background experi gether place fun laughter honesti gain lifeship learn life brand', 'question day natur talent gift', 'yo lazi said like underwear walk bathroom wear diaper pee wherev want honestli sell diaper thing', 'major truli success women marri spoken women seem agre still marri career would complet differ women play marriag lift partner marriag food thought', 'sex femal ampute dark tri figur ass hurt stump', 'sunnah like ark noah whoever embark upon reach salvat whoever refus drown imaam malik', 'love found mr right mean attract handsom love find soon happi new week', 'black gay men live hiv like suffer depress suicid thought get even wors men live toxic homophob societi rememb alway home us world suicid prevent day', 'set alarm iphon excit feel like spin wheel price right', 'girlfriend kid give date parent advic', 'mommi broom say babi broom time go sweep', 'girlfriend accus transvestit pack thing left', 'see still press inspit health issu see live dream eventhough friend famili reject see brave embrac storm life smile see keep fight', 'alway worst critic move past realli start succeed fun', 'put woman make sens one realli want', 'black tran person philli nj pleas fill form well work extend servic', 'summer tip hot day beer good way hydrat great way hydrat', 'pm still awak wild decid take shot milk eat peanut butter cooki cuz yolo god get old', 'tonight night lot risk arrang new sound song choic hey let count mani time word risk said tonight episod american idol hollywood week solo', 'look new music suggest today listen', 'longest drunk time', 'call tiktok remind wast life', 'girl allow kiss first promis', 'thank watch tonit rememb jesu ultim gift never measur tri best love thi neighbor', 'kid wait becom adult adult like realli suck', 'recent studi show american weigh much put togeth', 'know loud kid default set tv subtitl', 'quit job mexico peso well', 'understand kid funni given enough childhood trauma funni', 'shake ya momma gave ya start shake low self esteem', 'want hear go answer fan question websit comment releas articl next week answer use ask stray see', 'sinc seem terrifi homosexu would seem key conquer america would attack us gay armi', 'easili offend fda approv new drug ask doctor growacet right rofl', 'alway ask accept bitcoin whenev buy someth make look cool', 'friend secret handshak wife say lame jealou cool look especi end jazz hand', 'wake three black tran sister taken us day want call peac heal love black tran women everywher also want call commun alli part protect black tran women', 'comparison thief joy never compar never compet', 'turn high school chemistri teacher right alcohol solut', 'peopl rememb done wish done girlfriend next door', 'jajajajajajaja either mexican laugh german sex', 'keto diet suck lost singl pound biggest wast min ever', 'sat phil live room today si watch news spous fight b c low blood sugar pass candi problem solv', 'tri calm peopl yell opinion say matter peel carrot use', 'fli go fast enough', 'cow walk stair sound like lie lazi cow made could stay upstair watch netflix bed', 'differ comedian rest joke twitter comedian get see peopl disappoint joke person', 'chang peopl chang around lot time enough', 'peopl alway tell listen gut mine tell feed cinnamon bun', 'burgerk love way employe work drive thru speak english th languag got frog avocado', 'oh shit yo oh shit forget kid like spong yo like spong', 'keep romanc aliv marriag randomli rub foot husband foot bed', 'friend got tattoo wife name guess love much love barb wire', 'power attitud bank account monday motivaton wake happi', 'thought look alright today visit friend hospit nurs told go back room', 'alway rememb valu decreas base someon inabl see worth', 'ptwa wiffl ball tournament full swing mcgladrey classic', 'besid ego w reach instagram cut artist creator small busi fb insta lure away blog websit liter destroy algorithm shift reach audienc devast seriou', 'black tran person need fund meal kwanzaa pleas reach us like donat fund feed black tran folx kwanzaa pleas reach fund tight season believ umoja commun alway make happen', 'deed count count deed', 'friend ask want hold newborn babi said thank ovul know work hold want one today littl newborn babi today', 'much love nick posit attitud perform brother zach matthew american idol', 'guy listen lyric favorit song often word afraid say', 'truth truth matter know', 'everi girl love flower surpris smile', 'everi pillow whoopi goldberg hous call whoope cushion', 'men like gonna rock world right finish game madden boy', 'fold pizza half quesadilla unfold quesadilla guess pizza obama want know', 'almost hit deer tonight took back said mom hug back zero hater feel good', 'thing hotter sound open velcro wallet pay dinner hear exact sound take velcro shoe sexi time', 'weird desir babi suppos happen husband hous picket fenc desir year iivf ivf babi black women ivf ui', 'begin write tweet rework tweet sever time tri show wife tweet wife left month ago', 'hustl like broke got tank', 'two basic thing peopl want life understood appreci true friendship provid', 'girlfriend say got commit issu well realli girlfriend wife', 'get older start enjoy simpl thing like spatula clean sheet tell happi littl bird sing earli morn shut', 'make typo delet tweet delet account destroy comput chang name move pakistan open curri shop', 'sorri let short scream airplan land wheel hit pavement alway startl', 'st day kwanzaa day karamu campaign day show embodi kwanzaa principl ask commun join us continu work sinc karamu feast provid fund black tran folx feast holiday', 'jew love bagel one holeyest food', 'thank everyon tune tonight premier k pyramid tune next sunday two new episod', 'gender slowli dismantl love first time heard word gender social construct get took lot explor explan research unse', 'gener kennedi assassin everyon know heard news rush tv boston univers first plane hit way first class time got home two plane', 'husband like egg salad sandwich get past fart smell actual quit enjoy', 'pregnant creat tini version mom creat tini version', 'stay singl miser get marri becom reason someon els miser', 'see sign bar grill hm bore pedestrian establish pass see sign bar grill place someth special uniqu', 'wife big heart doctor use word enlarg', 'sister love mexican guy want marri went home mexico guess juan got away', 'wife moodi christma blame festiv period', 'today feel like sunday', 'start use god plan mine black tuesday', 'right googl sleuth need help find antiqu tile fireplac surround earli th centuri older prefer art craft style la william morri victorian ok anyth look neato go hous shit', 'sailor play card captain stand deck', 'challah make perfect process creat someth wonder lauren lizerbram jnf first ladi power jnf love grow israel jnf demand challah bake', 'pay thing sweep feet make laugh spend time togeth sneak see boyfriend tip', 'son said sinc girl peni thought girl one big butt', 'shadow sweet nd year med student today one day make amaz pediatrician med twitter one piec advic would give former medstud self', 'probabl go sound realli gay sunset gorgeou right love make dude', 'pumpkin patch great place go need spend pumpkin kid throw sibl', 'know mani jewish peopl grow realiz menorah ty', 'keep romanc aliv marriag play footsi spous yell kid dinner', 'also read shadow death tickl see phrase moral mortal p hmmm heard', 'dog lover get dog clean food crumb floor still eventu clean crumb instead poop', 'fall best becasu nice enough outsid expect', 'say shampoo demand real poo', 'professor learn histori doom repeat light gender reveal explos think true', 'definit mix emot mother law drive cliff new car', 'social anxieti like regular anxieti except friendli charismat give irrat fear life', 'thing would prevent wife go pilat class would invent expens form exercis', 'email threaten la school claim muslim extremist like student sign report card timmi dad', 'biggest plot twist spanish soap opera rodrigo find mother', 'netflix still watch tub ice cream ya', 'call black man die heat exhaust white guy die brain aneurysm differ stroke', 'believ monday motiv believ', 'countri would whole lot chill could legal marijuana say', 'know littl indestruct black box use plane make whole plane substanc', 'stress kill weaken immun system thu expos variou opportunist infect happen immun defici diseas take drug eat healthi stress kill', 'sorri take minut lunch hour work cook whole chicken microwav', 'experi hard teacher give test first lesson afterward', 'doctor told colorblind idea came right green', 'nice lunch park homeless peopl bad', 'know lot peopl like phrase make love sorri call cook meatbal go chang', 'yo twitter world anyon new show movi would recommend', 'happi hump day', 'front door peephol use mail slot see door instead everyon visit hous get judg base crotch look', 'love listen young men ponder women dc beauti place smart indecis time', 'girl say statu liberti sneez god bless america', 'world hi best friend sister girlfriend girlfriend next door andrea love thing friendship girlfriend relat need girlfriend next door friendship friendship coach friendship coach', 'spent last night mouth word dog tri convinc gone deaf', 'interview explain five year gap resum oh went yale interviw amaz hire yay got yob', 'sheikh hero monstrou muslim men provid seemingli oppos yet actual interdepend orientalist fantasi racial arab middl eastern masculin', 'anoth hard day la everyon grew watch kobe left behind incred legaci celebr today everi day rest peac kobeand gianna live lost flight', 'kid serious interact like bunch drunk pothead', 'also discuss scholarship archaeolog orthodox jew accus proselyt', 'differ dog fox beer', 'swap wife parachut around backpack bitch goe stupid camp holiday parachut', 'rabbi friend ever call revisionist bring archaeolog literari analysi scholarship discuss jew', 'call retard guy follow band around drummer', 'peopl assum know comput india make angri want', 'pride come destruct arrog spirit fall prov live like jesu serv someon today', 'sderot work emerg mode work outreach commun ayelet shmuel head clinic center resili sderot power jnf love grow israel', 'thank watch tonight seem wive stick togeth hair color better blond hunt skill board', 'yo help ok yo stuck run omg yo put shirt pant', 'blind guy walk bar tabl chair anoth chair', 'problem mosqu mani peopl want power enough peopl know', 'best math joke use think math useless one day realis decim point', 'good mani peopl often', 'get annoy listen second long voicemail goe back listen hour long podcast', 'becom quit independ sinc wife left put second load wash microwav', 'today day ordeal clean hous rest hunter widow spend saturday marri duck hunter', 'hear asian guy terribl nobodi mourn death unbereav', 'irish nessi ireland lake near dublin thay nessi monster like ring doorbel knock less monster', 'ever wish veget groceri store lightli mist water everi minut sound like dream', 'got friend fat alcohol transvestit eat drink mari', 'basebal open day groundhog day summer mean warm weather come', 'yo gentli push babi around stroller thought aww gonna good mom one day gave stroller hard push toward wall said goodnight babi', 'anyon got sweet vacat plan look idea', 'heartbreak horrifi news anoth mass shoot time nova scotia much love friend across canada', 'trust stair alway someth', 'kkk good sourc potassium ye banana', 'time car goe real fast sit broad daylight summer day rofl', 'say want celebr one enjoy see mani come woodwork kill career idiot tweet', 'also interest white ladi take white ladi romanc author write black charact racism publish suzann brockmann troubleshoot seri nora robert romanc', 'black men black women need remind beauti necessari valuabl context fact', 'argument woman like read softwar licens agreement end ignor everyth click agre', 'husband got littl ambiti decid kid like realli suck let make suck let th even number kid', 'refin sugar like regular sugar except listen classic music speak english accent', 'homeless person say gay job interview ask address home', 'statu still stand juli th nathan bedford forrest day due social pressur state tri overrul tennessean might longer stomach finger cross', 'worst part wake afternoon nap realiz still work', 'counti alabama refus issu gay marriag licens ground believ tradit marriag man sister', 'friendship relationship often put other feel want desir front display love compromis', 'worst enemi doubt anybodi els ever get past success wednesday wisdom', 'call someon whose gpa greater number inch dick asian', 'thread everyth need know j k rowl latest transphob post', 'broke life chapter would good read life brand', 'alway need box tissu nearbi watch audit like sam admir heart strength much american idol', 'one denial much marri coupl kid tell great minivan bought', 'black peopl want piss white peopl open restaur serv coffe brunch', 'good part parent respons till crimin justic system problem', 'spare time help blind kid mean verb adject', 'watch three hour surviv show got argument neighbour let setup rabbit snare properti', 'spi put cyanid capsul teeth failsaf mmph spi bit alreadi foam mouth nome ife dibnt', 'demonstr full confid tell secret experi bring closer', 'sure wife mad year old forgot birthday', 'school cloth shop mia done yet get jean mia ugh shop cardio get natur', 'champagn real friend real pain sham friend ginger ale friend craig tummi ach right craig even parti', 'favorit emoji comment', 'skinni guy pack like fat chick ts count', 'time deep tissu massag need crazi florida weekend', 'first half hollywood week back tomorrow night pick left american idol', 'galile culinari institut showcas everyth israel love realli excit part want abl cook want abl teach michael solomonov star netflix search isra cuisin', 'crazi morpheu show hous ask want take blue red pill would laugh', 'give woman inch make bleed bang twice punch mouth', 'worst enemi doubt anybodi els ever get past succeed wednesday wisdom wednesday motiv', 'famili everyth transpir recent give us opportun reflect listen reprogram part live loudli feroci anti racist never let privileg lie dormant could use stand right', 'fat rich man die drug overdos headlin read pill buri dough boy', 'dogecoin annoy', 'evangel hour genuin question pray', 'red wine great want nice drink classi also want purpl teeth', 'idea health dispar interest oppress margin group healthi other white health standard', 'dyk thing self stigma mental health challeng punish stomp stigma advoc', 'major mistak learn past one', 'mad pleas say someth self checkout unexpect item bag area alway self checkout pleas talk get home work', 'need new tv show watch suggest', 'fascin discuss variou wave immigr lebanon former ottoman territori refuge syrian war coupl brief mention religion', 'sunday boy know mean get wing beer cozi watch greta gerwig gillian armstrong adapt littl women debat better encompass struggl women achiev autonomi th centuri america', 'alway bring plate food restaur way hand waiter accident respond tell enjoy meal look stupid', 'good morn go make today great day', 'penguin mightier swordfish', 'arab boy lost groceri store manag store walk boy ask mother look like boy repli know', 'desiign went doubl platinum rap broad atlanta even tho never left new york meanwhil spent five year grad school end sentenc without could wrong though', 'ever find name surgeon screw limb transplant kill bear hand', 'best part long weekend sunday night feel like saturday', 'treat around friend alon boyfriend tip', 'depend eye imagin focu mark twain', 'favorit part feel get long trip hike ofri green horizon student power jnf love grow israel green horizon', 'ask anybodi give anyth ask give opportun anyth want know go work', 'littl boy walk polic station lost daddi say boy look son worri like ask offic liquor women', 'want gener motor engin memori need perfect recal everyth', 'call boss chicken farm eggxecut', 'muslim learn swim inshallah water', 'tran women women', 'vacuum yo ask want build stuff knock much today build huge tower knock shit soccer ball', 'think way rais money queen work would rather see donat', 'turn shower plug tub watch water rise like im stuck villain trap', 'excit partner amaz statewid event help georgia kick habit ga quit encourag other quit gaso', 'enough onlin date app get part variou healthi queer program around commun keep live love life screen', 'scroll danc danc revolut machin tri find slow song salvag date', 'though hard appreci go pain passag bad experi often teach wednesday motiv', 'everi day wake fuck shake rage made movi air bud kid call air buddi instead heir bud', 'buri eleph mammoth undertak', 'someon could hurri make swim shirt cool realli appreci', 'nice tri basebal player tell eyebrow fake drew eye', 'call black man moon astronaut', 'im pick someon ask long get alway say depend song play', 'black lesbian obes white neck beard indian comic walk bar get netflix origin seri', 'recogn need use platform bring attent issu need convers publicli privat', 'get marri argu fun thing like stop eat chip pleas leav sock hous']\n"
     ]
    }
   ],
   "source": [
    "def porterStemming(dataset):\n",
    "    corpus = []\n",
    "    ps = PorterStemmer()\n",
    "\n",
    "    for i in range(0, dataset.shape[0]):\n",
    "        text = re.sub('[^a-zA-Z]', ' ', dataset['text'][i])\n",
    "        text = text.lower().split()\n",
    "        text = ' '.join([ps.stem(w) for w in text if not w in set(stopwords.words('english'))])\n",
    "\n",
    "        corpus.append(text)\n",
    "    \n",
    "    return corpus\n",
    "\n",
    "ps = porterStemming(train_dataset)\n",
    "ps_test = porterStemming(test_dataset)\n",
    "print(ps_test)\n"
   ]
  },
  {
   "cell_type": "markdown",
   "metadata": {},
   "source": [
    "### Snowball Stemming\n",
    "\n",
    "This technique can support other languages, that's why it's called a multi-lingual stemmer. This stemmer is based on a programming language called ‘Snowball’ that processes small strings and is the most widely used stemmer. The Snowball stemmer is way more aggressive than Porter Stemmer and is also referred to as Porter2 Stemmer. Because of the improvements added when compared to the Porter Stemmer, the Snowball stemmer is having greater computational speed. "
   ]
  },
  {
   "cell_type": "code",
   "execution_count": 53,
   "metadata": {},
   "outputs": [],
   "source": [
    "def snowballStemming(dataset):\n",
    "    corpus = []\n",
    "    ss = SnowballStemmer(language='english')\n",
    "\n",
    "    for i in range(0, dataset.shape[0]):\n",
    "        text = re.sub('[^a-zA-Z]', ' ', dataset['text'][i])\n",
    "        text = text.lower().split()\n",
    "        text = ' '.join([ss.stem(w) for w in text if not w in set(stopwords.words('english'))])\n",
    "\n",
    "        corpus.append(text)\n",
    "\n",
    "    return corpus"
   ]
  },
  {
   "cell_type": "markdown",
   "metadata": {},
   "source": [
    "### Lancaster Stemming\n",
    "\n",
    "The Lancaster stemmers are more aggressive and dynamic compared to the other two stemmers. The stemmer is really faster, but the algorithm is really confusing when dealing with small words. But they are not as efficient as Snowball Stemmers. The Lancaster stemmers save the rules externally and basically uses an iterative algorithm. "
   ]
  },
  {
   "cell_type": "code",
   "execution_count": 54,
   "metadata": {},
   "outputs": [],
   "source": [
    "def lancasterStemming(dataset):\n",
    "    corpus = []\n",
    "    ls = LancasterStemmer()\n",
    "\n",
    "    for i in range(0, dataset.shape[0]):\n",
    "        text = re.sub('[^a-zA-Z]', ' ', dataset['text'][i])\n",
    "        text = text.lower().split()\n",
    "        text = ' '.join([ls.stem(w) for w in text if not w in set(stopwords.words('english'))])\n",
    "\n",
    "        corpus.append(text)\n",
    "        \n",
    "    return corpus"
   ]
  },
  {
   "cell_type": "markdown",
   "metadata": {},
   "source": [
    "### Lemmatization\n",
    "\n",
    "> Lemmatization, unlike Stemming, reduces the inflected words properly ensuring that the root word belongs to the language. In Lemmatization root word is called Lemma. A lemma (plural lemmas or lemmata) is the canonical form, dictionary form, or citation form of a set of words."
   ]
  },
  {
   "cell_type": "code",
   "execution_count": 55,
   "metadata": {},
   "outputs": [],
   "source": [
    "def lemmatization(dataset):\n",
    "    corpus = []\n",
    "    wnl = WordNetLemmatizer()\n",
    "\n",
    "    for i in range(0, dataset.shape[0]):\n",
    "        text = re.sub('[^a-zA-Z]', ' ', dataset['text'][i])\n",
    "        text = text.lower().split()\n",
    "        text = ' '.join([wnl.lemmatize(w) for w in text if not w in set(stopwords.words('english'))])\n",
    "\n",
    "        corpus.append(text)\n",
    "\n",
    "    return corpus"
   ]
  },
  {
   "cell_type": "markdown",
   "metadata": {},
   "source": [
    "### Stemming or Lemmatization?\n",
    "\n",
    "One thing to note about lemmatization is that it is harder to create a lemmatizer in a new language than if it is a stemming algorithm because we require a lot more knowledge about structure of a language in lemmatizers.\n",
    "\n",
    "Stemming and Lemmatization both generate the foundation sort of the inflected words and therefore the only difference is that stem may not be an actual word whereas, lemma is an actual language word.\n",
    "\n",
    "Stemming follows an algorithm with steps to perform on the words which makes it faster. Whereas, in lemmatization, you used a corpus also to supply lemma which makes it slower than stemming. you furthermore might had to define a parts-of-speech to get the proper lemma.\n",
    "\n",
    "This means that:\n",
    "- **If speed is key, then stemming should be used**, since lemmatizers scan a corpus which consumes time and processing;\n",
    "- **If you have time and want even better results, then lemmatizing should be used**."
   ]
  },
  {
   "cell_type": "markdown",
   "metadata": {},
   "source": [
    "### Bag of words Model"
   ]
  },
  {
   "cell_type": "code",
   "execution_count": 56,
   "metadata": {},
   "outputs": [
    {
     "name": "stdout",
     "output_type": "stream",
     "text": [
      "[1 1 1 ... 1 1 0]\n",
      "(8000, 1500) (8000,)\n",
      "[1 0 1 1 1 1 1 1 1 1 1 0 0 0 0 1 1 1 0 0 0 0 1 1 0 0 0 1 1 1 0 1 1 1 1 1 1\n",
      " 1 1 1 0 1 1 0 1 0 1 0 0 1 1 0 1 1 1 1 1 1 1 1 1 1 1 1 1 0 0 1 0 1 1 0 0 0\n",
      " 0 1 1 1 1 1 0 0 1 0 0 1 0 0 1 0 0 1 1 0 0 1 1 1 1 0 1 0 1 1 1 1 1 1 1 1 1\n",
      " 1 1 1 1 0 0 0 1 0 1 1 0 1 1 1 0 0 0 1 0 1 0 0 1 0 1 0 1 1 1 1 0 1 1 1 1 0\n",
      " 0 1 1 1 1 0 1 0 0 1 1 0 0 1 0 1 1 1 0 0 1 0 0 1 1 0 1 1 1 0 1 1 1 1 1 1 0\n",
      " 1 1 1 1 0 1 0 0 1 0 0 1 0 1 0 1 0 0 1 1 1 1 1 1 1 0 0 0 1 0 1 1 1 1 1 1 1\n",
      " 0 1 1 1 1 1 0 1 0 1 1 1 1 1 1 0 1 1 1 0 1 1 1 0 1 1 1 1 0 1 1 0 0 1 0 0 0\n",
      " 0 1 0 0 0 1 1 1 1 1 1 0 1 0 0 0 1 1 0 0 1 1 1 1 0 1 0 0 1 1 1 0 0 1 1 1 0\n",
      " 0 1 0 1 1 1 0 0 0 1 0 1 0 1 1 0 1 1 1 1 1 0 1 1 1 1 1 1 1 1 0 0 1 1 1 1 1\n",
      " 1 0 1 1 0 0 1 0 1 0 1 1 1 1 0 1 1 1 1 0 0 1 0 1 0 1 1 0 0 1 1 1 1 1 1 1 1\n",
      " 1 0 1 0 0 1 1 1 1 1 1 1 1 1 0 1 0 1 1 0 0 1 1 1 1 1 1 0 1 1 1 0 0 1 0 1 0\n",
      " 1 0 0 1 0 0 1 0 1 1 1 0 1 1 0 0 0 1 1 1 0 1 0 0 1 0 1 0 1 0 1 1 1 1 1 0 1\n",
      " 1 0 1 1 1 1 1 0 1 1 1 1 1 0 0 1 0 1 0 1 1 1 1 0 0 1 1 0 0 0 0 0 1 0 0 0 0\n",
      " 1 1 0 1 1 0 1 1 1 1 1 1 0 1 0 1 0 1 0 0 0 1 1 1 1 1 0 1 0 1 0 0 1 1 0 1 1\n",
      " 0 1 1 0 1 1 1 1 1 1 1 1 0 1 0 0 1 0 1 1 0 1 0 1 0 0 1 0 0 0 0 0 1 1 1 1 0\n",
      " 1 1 1 1 0 0 0 0 0 1 1 1 0 1 0 0 0 1 1 1 0 1 1 1 0 0 0 1 1 1 0 0 1 1 1 1 1\n",
      " 0 1 1 0 1 1 1 1 0 1 1 1 1 1 0 1 1 1 0 1 0 0 1 0 0 1 1 1 1 1 0 1 1 0 0 0 0\n",
      " 1 0 1 0 0 0 1 1 1 1 1 1 1 0 1 1 0 0 1 1 1 1 1 1 0 0 0 1 1 0 1 1 1 0 1 1 1\n",
      " 0 1 0 0 1 1 1 0 1 1 1 0 1 0 1 1 1 0 1 1 1 1 1 1 0 1 0 1 0 1 0 1 0 1 1 0 1\n",
      " 1 1 0 0 0 1 0 1 0 1 0 1 0 0 1 0 1 1 0 1 1 1 1 1 0 1 0 0 1 1 1 1 1 0 1 0 1\n",
      " 0 1 1 0 0 0 1 0 1 1 0 1 1 0 1 0 0 1 1 0 1 0 0 1 0 1 0 0 0 1 1 1 1 0 0 1 0\n",
      " 1 1 0 0 1 1 0 0 1 1 1 1 1 1 0 1 1 1 1 0 0 1 1 1 1 1 1 0 1 1 0 1 1 1 0 1 0\n",
      " 1 0 0 0 0 0 1 0 0 0 0 1 1 1 1 1 0 1 0 0 1 1 1 0 0 1 0 0 0 1 0 1 1 1 1 1 0\n",
      " 0 0 1 0 0 1 0 1 1 1 1 0 1 0 1 1 1 1 1 1 1 1 1 0 0 1 0 1 0 1 1 1 0 0 1 0 1\n",
      " 0 1 1 0 0 1 0 1 1 0 1 1 0 0 1 1 1 0 1 0 1 1 1 1 1 1 1 0 1 0 0 1 1 1 1 0 0\n",
      " 1 1 1 1 0 1 1 0 0 1 0 0 0 1 1 1 1 1 1 0 1 1 1 0 1 0 0 0 1 1 0 0 1 0 0 1 0\n",
      " 0 0 1 0 0 0 1 0 1 1 0 1 0 0 0 0 0 1 1 1 1 0 1 0 1 0 0 1 0 1 1 1 1 1 1 1 0\n",
      " 1]\n",
      "(1000, 1500) (1000,)\n"
     ]
    }
   ],
   "source": [
    "def bagOfWords(corpus, dataset):\n",
    "    vectorizer = CountVectorizer(max_features = 1500)\n",
    "    x = vectorizer.fit_transform(corpus).toarray()\n",
    "    y = dataset.iloc[:,-1].values\n",
    "    print(y)\n",
    "    print(x.shape, y.shape)\n",
    "    return x, y\n",
    "bow_ps_x, bow_ps_y = bagOfWords(ps, train_dataset)\n",
    "bow_ps_test_x, bow_ps_test_y = bagOfWords(ps_test, test_dataset)"
   ]
  },
  {
   "cell_type": "markdown",
   "metadata": {},
   "source": [
    "## Applying machine learning algorithms\n",
    "\n",
    "[[ go back to the top ]](#Table-of-contents)\n",
    "\n",
    "We are planning on implementing at least 3 of the following machine learning algorithms:\n",
    "- **Naïve Bayes**\n",
    "- **Decision Trees**\n",
    "- Neural Networks\n",
    "- K-NN\n",
    "- **SVM**\n"
   ]
  },
  {
   "cell_type": "markdown",
   "metadata": {},
   "source": [
    "### Naïve Bayes\n",
    "\n",
    "Description: TODO"
   ]
  },
  {
   "cell_type": "code",
   "execution_count": 57,
   "metadata": {},
   "outputs": [
    {
     "name": "stdout",
     "output_type": "stream",
     "text": [
      "[1 1 1 ... 1 1 0]\n",
      "[1 1 1 ... 1 1 0]\n",
      "[0 1 0 0 1 0 1 1 1 1 0 1 0 1 0 1 1 1 0 1 0 0 0 0 1 1 0 0 1 1 0 0 0 0 0 0 0\n",
      " 1 1 0 0 1 1 1 1 0 0 1 0 0 1 0 1 0 1 1 0 0 1 1 1 1 0 0 0 0 0 0 1 0 0 1 0 0\n",
      " 1 1 1 0 0 1 0 1 0 1 1 1 1 1 1 1 1 1 0 0 0 0 0 0 1 1 0 1 0 1 1 1 0 1 1 0 1\n",
      " 0 1 0 1 1 0 1 0 0 0 1 0 1 0 0 1 1 0 1 0 1 1 1 0 1 0 0 0 1 1 1 0 1 0 1 0 0\n",
      " 0 0 0 1 0 1 1 0 0 0 1 1 1 0 0 0 1 0 0 1 1 1 0 1 0 1 1 0 0 0 0 1 1 0 1 0 0\n",
      " 1 1 0 0 1 0 0 1 1 1 1 1 0 0 0 0 0 0 0 1 0 1 1 0 0 1 0 0 1 0 1 1 0 1 1 0 0\n",
      " 0 0 0 0 0 1 1 0 0 1 0 1 1 0 1 0 0 0 0 0 0 1 1 0 0 0 1 1 0 0 0 0 0 0 1 1 1\n",
      " 1 1 0 1 0 0 0 1 1 1 0 0 1 1 1 1 1 1 1 0 1 1 0 0 0 0 0 0 1 0 0 0 0 0 0 0 1\n",
      " 0 1 0 1 1 1 0 0 1 0 1 1 1 1 0 1 1 1 0 0 1 0 0 0 1 0 0 1 0 1 1 1 0 0 1 1 1\n",
      " 0 1 1 0 0 0 1 1 0 0 1 1 1 1 1 0 1 0 0 1 0 1 0 1 1 1 1 0 1 1 1 1 0 1 1 0 0\n",
      " 1 1 0 1 1 1 0 0 0 0 0 1 1 0 0 1 0 1 0 1 1 0 0 1 0 1 1 0 0 1 1 1 1 0 1 1 1\n",
      " 0 1 1 0 0 1 0 0 0 1 1 1 1 0 1 1 0 0 1 1 1 0 0 1 1 0 1 1 1 0 0 1 1 1 1 0 1\n",
      " 0 1 0 1 0 0 1 0 0 0 1 0 1 0 1 0 0 0 1 0 1 1 0 1 1 0 0 0 0 1 1 1 0 0 1 0 0\n",
      " 0 0 1 0 0 1 1 0 0 1 1 1 1 0 0 1 1 0 0 1 1 0 1 1 1 0 1 0 0 1 1 0 1 1 0 0 1\n",
      " 1 0 1 0 1 0 1 1 1 1 1 1 1 0 1 1 0 1 0 1 1 0 0 1 1 0 0 1 0 0 1 1 1 0 0 1 0\n",
      " 0 0 1 0 0 1 1 1 1 1 0 0 0 1 0 0 0 0 1 1 1 0 1 1 0 1 1 1 0 1 1 1 1 1 1 1 0\n",
      " 0 0 0 0 1 1 1 0 1 0 1 0 0 1 1 1 1 0 0 0 1 0 0 0 0 0 0 1 0 0 1 1 1 1 1 0 1\n",
      " 0 0 0 1 1 1 1 1 0 1 1 0 1 0 0 1 0 0 0 1 0 0 0 0 0 0 1 1 0 1 1 1 1 0 1 0 0\n",
      " 1 1 1 0 1 1 1 0 1 0 0 0 1 0 0 0 0 0 1 0 1 0 1 1 1 0 0 1 1 1 1 1 1 1 0 0 0\n",
      " 1 1 0 1 1 1 0 1 1 0 1 0 0 1 1 1 0 0 1 0 0 0 1 1 1 1 0 1 0 1 1 1 0 0 1 1 1\n",
      " 1 1 1 0 0 0 1 0 0 1 1 1 1 1 1 0 0 1 0 1 1 1 0 1 1 0 0 0 0 0 0 0 0 1 1 1 1\n",
      " 0 1 1 0 0 0 0 0 0 1 0 1 1 0 0 0 1 0 0 0 1 0 0 0 1 0 0 1 1 1 0 0 0 1 1 0 0\n",
      " 1 0 0 0 1 1 1 0 0 0 1 0 0 0 1 0 1 0 0 1 0 0 0 1 1 1 1 1 1 1 1 1 0 0 0 1 0\n",
      " 0 1 1 1 0 1 1 0 1 1 1 0 1 0 0 1 1 0 1 1 0 0 0 1 1 0 1 0 1 0 1 0 1 0 1 1 0\n",
      " 1 0 0 1 0 0 0 1 0 0 1 0 0 1 0 1 1 0 1 0 0 0 1 1 0 0 0 1 1 0 0 0 0 1 1 1 1\n",
      " 0 0 1 1 1 1 1 1 1 1 1 1 1 1 0 1 0 0 1 1 0 1 0 1 1 1 0 0 1 0 1 0 1 0 0 0 1\n",
      " 0 1 0 1 0 1 0 1 1 1 0 0 0 0 1 1 0 0 1 0 1 1 1 0 1 0 1 0 1 1 0 0 0 0 1 0 1\n",
      " 1]\n"
     ]
    }
   ],
   "source": [
    "def naiveBayes(X_train, y_train, X_test):\n",
    "    classifier = GaussianNB()\n",
    "    print(y_train)\n",
    "    model = classifier.fit(np.array(X_train), np.array(y_train))\n",
    "\n",
    "    y_pred = classifier.predict(X_test)\n",
    "    return y_pred\n",
    "\n",
    "print(bow_ps_y)\n",
    "nb = naiveBayes(bow_ps_x, bow_ps_y, bow_ps_test_x)\n",
    "print(nb)"
   ]
  },
  {
   "cell_type": "markdown",
   "metadata": {},
   "source": [
    "## Performance\n",
    "\n",
    "[[ go back to the top ]](#Table-of-contents)\n",
    "\n",
    "TO DO"
   ]
  },
  {
   "cell_type": "code",
   "execution_count": 60,
   "metadata": {},
   "outputs": [
    {
     "name": "stdout",
     "output_type": "stream",
     "text": [
      "[1, 0, 1, 1, 1, 1, 1, 1, 1, 1, 1, 0, 0, 0, 0, 1, 1, 1, 0, 0, 0, 0, 1, 1, 0, 0, 0, 1, 1, 1, 0, 1, 1, 1, 1, 1, 1, 1, 1, 1, 0, 1, 1, 0, 1, 0, 1, 0, 0, 1, 1, 0, 1, 1, 1, 1, 1, 1, 1, 1, 1, 1, 1, 1, 1, 0, 0, 1, 0, 1, 1, 0, 0, 0, 0, 1, 1, 1, 1, 1, 0, 0, 1, 0, 0, 1, 0, 0, 1, 0, 0, 1, 1, 0, 0, 1, 1, 1, 1, 0, 1, 0, 1, 1, 1, 1, 1, 1, 1, 1, 1, 1, 1, 1, 1, 0, 0, 0, 1, 0, 1, 1, 0, 1, 1, 1, 0, 0, 0, 1, 0, 1, 0, 0, 1, 0, 1, 0, 1, 1, 1, 1, 0, 1, 1, 1, 1, 0, 0, 1, 1, 1, 1, 0, 1, 0, 0, 1, 1, 0, 0, 1, 0, 1, 1, 1, 0, 0, 1, 0, 0, 1, 1, 0, 1, 1, 1, 0, 1, 1, 1, 1, 1, 1, 0, 1, 1, 1, 1, 0, 1, 0, 0, 1, 0, 0, 1, 0, 1, 0, 1, 0, 0, 1, 1, 1, 1, 1, 1, 1, 0, 0, 0, 1, 0, 1, 1, 1, 1, 1, 1, 1, 0, 1, 1, 1, 1, 1, 0, 1, 0, 1, 1, 1, 1, 1, 1, 0, 1, 1, 1, 0, 1, 1, 1, 0, 1, 1, 1, 1, 0, 1, 1, 0, 0, 1, 0, 0, 0, 0, 1, 0, 0, 0, 1, 1, 1, 1, 1, 1, 0, 1, 0, 0, 0, 1, 1, 0, 0, 1, 1, 1, 1, 0, 1, 0, 0, 1, 1, 1, 0, 0, 1, 1, 1, 0, 0, 1, 0, 1, 1, 1, 0, 0, 0, 1, 0, 1, 0, 1, 1, 0, 1, 1, 1, 1, 1, 0, 1, 1, 1, 1, 1, 1, 1, 1, 0, 0, 1, 1, 1, 1, 1, 1, 0, 1, 1, 0, 0, 1, 0, 1, 0, 1, 1, 1, 1, 0, 1, 1, 1, 1, 0, 0, 1, 0, 1, 0, 1, 1, 0, 0, 1, 1, 1, 1, 1, 1, 1, 1, 1, 0, 1, 0, 0, 1, 1, 1, 1, 1, 1, 1, 1, 1, 0, 1, 0, 1, 1, 0, 0, 1, 1, 1, 1, 1, 1, 0, 1, 1, 1, 0, 0, 1, 0, 1, 0, 1, 0, 0, 1, 0, 0, 1, 0, 1, 1, 1, 0, 1, 1, 0, 0, 0, 1, 1, 1, 0, 1, 0, 0, 1, 0, 1, 0, 1, 0, 1, 1, 1, 1, 1, 0, 1, 1, 0, 1, 1, 1, 1, 1, 0, 1, 1, 1, 1, 1, 0, 0, 1, 0, 1, 0, 1, 1, 1, 1, 0, 0, 1, 1, 0, 0, 0, 0, 0, 1, 0, 0, 0, 0, 1, 1, 0, 1, 1, 0, 1, 1, 1, 1, 1, 1, 0, 1, 0, 1, 0, 1, 0, 0, 0, 1, 1, 1, 1, 1, 0, 1, 0, 1, 0, 0, 1, 1, 0, 1, 1, 0, 1, 1, 0, 1, 1, 1, 1, 1, 1, 1, 1, 0, 1, 0, 0, 1, 0, 1, 1, 0, 1, 0, 1, 0, 0, 1, 0, 0, 0, 0, 0, 1, 1, 1, 1, 0, 1, 1, 1, 1, 0, 0, 0, 0, 0, 1, 1, 1, 0, 1, 0, 0, 0, 1, 1, 1, 0, 1, 1, 1, 0, 0, 0, 1, 1, 1, 0, 0, 1, 1, 1, 1, 1, 0, 1, 1, 0, 1, 1, 1, 1, 0, 1, 1, 1, 1, 1, 0, 1, 1, 1, 0, 1, 0, 0, 1, 0, 0, 1, 1, 1, 1, 1, 0, 1, 1, 0, 0, 0, 0, 1, 0, 1, 0, 0, 0, 1, 1, 1, 1, 1, 1, 1, 0, 1, 1, 0, 0, 1, 1, 1, 1, 1, 1, 0, 0, 0, 1, 1, 0, 1, 1, 1, 0, 1, 1, 1, 0, 1, 0, 0, 1, 1, 1, 0, 1, 1, 1, 0, 1, 0, 1, 1, 1, 0, 1, 1, 1, 1, 1, 1, 0, 1, 0, 1, 0, 1, 0, 1, 0, 1, 1, 0, 1, 1, 1, 0, 0, 0, 1, 0, 1, 0, 1, 0, 1, 0, 0, 1, 0, 1, 1, 0, 1, 1, 1, 1, 1, 0, 1, 0, 0, 1, 1, 1, 1, 1, 0, 1, 0, 1, 0, 1, 1, 0, 0, 0, 1, 0, 1, 1, 0, 1, 1, 0, 1, 0, 0, 1, 1, 0, 1, 0, 0, 1, 0, 1, 0, 0, 0, 1, 1, 1, 1, 0, 0, 1, 0, 1, 1, 0, 0, 1, 1, 0, 0, 1, 1, 1, 1, 1, 1, 0, 1, 1, 1, 1, 0, 0, 1, 1, 1, 1, 1, 1, 0, 1, 1, 0, 1, 1, 1, 0, 1, 0, 1, 0, 0, 0, 0, 0, 1, 0, 0, 0, 0, 1, 1, 1, 1, 1, 0, 1, 0, 0, 1, 1, 1, 0, 0, 1, 0, 0, 0, 1, 0, 1, 1, 1, 1, 1, 0, 0, 0, 1, 0, 0, 1, 0, 1, 1, 1, 1, 0, 1, 0, 1, 1, 1, 1, 1, 1, 1, 1, 1, 0, 0, 1, 0, 1, 0, 1, 1, 1, 0, 0, 1, 0, 1, 0, 1, 1, 0, 0, 1, 0, 1, 1, 0, 1, 1, 0, 0, 1, 1, 1, 0, 1, 0, 1, 1, 1, 1, 1, 1, 1, 0, 1, 0, 0, 1, 1, 1, 1, 0, 0, 1, 1, 1, 1, 0, 1, 1, 0, 0, 1, 0, 0, 0, 1, 1, 1, 1, 1, 1, 0, 1, 1, 1, 0, 1, 0, 0, 0, 1, 1, 0, 0, 1, 0, 0, 1, 0, 0, 0, 1, 0, 0, 0, 1, 0, 1, 1, 0, 1, 0, 0, 0, 0, 0, 1, 1, 1, 1, 0, 1, 0, 1, 0, 0, 1, 0, 1, 1, 1, 1, 1, 1, 1, 0, 1]\n",
      "[0 1 0 0 1 0 1 1 1 1 0 1 0 1 0 1 1 1 0 1 0 0 0 0 1 1 0 0 1 1 0 0 0 0 0 0 0\n",
      " 1 1 0 0 1 1 1 1 0 0 1 0 0 1 0 1 0 1 1 0 0 1 1 1 1 0 0 0 0 0 0 1 0 0 1 0 0\n",
      " 1 1 1 0 0 1 0 1 0 1 1 1 1 1 1 1 1 1 0 0 0 0 0 0 1 1 0 1 0 1 1 1 0 1 1 0 1\n",
      " 0 1 0 1 1 0 1 0 0 0 1 0 1 0 0 1 1 0 1 0 1 1 1 0 1 0 0 0 1 1 1 0 1 0 1 0 0\n",
      " 0 0 0 1 0 1 1 0 0 0 1 1 1 0 0 0 1 0 0 1 1 1 0 1 0 1 1 0 0 0 0 1 1 0 1 0 0\n",
      " 1 1 0 0 1 0 0 1 1 1 1 1 0 0 0 0 0 0 0 1 0 1 1 0 0 1 0 0 1 0 1 1 0 1 1 0 0\n",
      " 0 0 0 0 0 1 1 0 0 1 0 1 1 0 1 0 0 0 0 0 0 1 1 0 0 0 1 1 0 0 0 0 0 0 1 1 1\n",
      " 1 1 0 1 0 0 0 1 1 1 0 0 1 1 1 1 1 1 1 0 1 1 0 0 0 0 0 0 1 0 0 0 0 0 0 0 1\n",
      " 0 1 0 1 1 1 0 0 1 0 1 1 1 1 0 1 1 1 0 0 1 0 0 0 1 0 0 1 0 1 1 1 0 0 1 1 1\n",
      " 0 1 1 0 0 0 1 1 0 0 1 1 1 1 1 0 1 0 0 1 0 1 0 1 1 1 1 0 1 1 1 1 0 1 1 0 0\n",
      " 1 1 0 1 1 1 0 0 0 0 0 1 1 0 0 1 0 1 0 1 1 0 0 1 0 1 1 0 0 1 1 1 1 0 1 1 1\n",
      " 0 1 1 0 0 1 0 0 0 1 1 1 1 0 1 1 0 0 1 1 1 0 0 1 1 0 1 1 1 0 0 1 1 1 1 0 1\n",
      " 0 1 0 1 0 0 1 0 0 0 1 0 1 0 1 0 0 0 1 0 1 1 0 1 1 0 0 0 0 1 1 1 0 0 1 0 0\n",
      " 0 0 1 0 0 1 1 0 0 1 1 1 1 0 0 1 1 0 0 1 1 0 1 1 1 0 1 0 0 1 1 0 1 1 0 0 1\n",
      " 1 0 1 0 1 0 1 1 1 1 1 1 1 0 1 1 0 1 0 1 1 0 0 1 1 0 0 1 0 0 1 1 1 0 0 1 0\n",
      " 0 0 1 0 0 1 1 1 1 1 0 0 0 1 0 0 0 0 1 1 1 0 1 1 0 1 1 1 0 1 1 1 1 1 1 1 0\n",
      " 0 0 0 0 1 1 1 0 1 0 1 0 0 1 1 1 1 0 0 0 1 0 0 0 0 0 0 1 0 0 1 1 1 1 1 0 1\n",
      " 0 0 0 1 1 1 1 1 0 1 1 0 1 0 0 1 0 0 0 1 0 0 0 0 0 0 1 1 0 1 1 1 1 0 1 0 0\n",
      " 1 1 1 0 1 1 1 0 1 0 0 0 1 0 0 0 0 0 1 0 1 0 1 1 1 0 0 1 1 1 1 1 1 1 0 0 0\n",
      " 1 1 0 1 1 1 0 1 1 0 1 0 0 1 1 1 0 0 1 0 0 0 1 1 1 1 0 1 0 1 1 1 0 0 1 1 1\n",
      " 1 1 1 0 0 0 1 0 0 1 1 1 1 1 1 0 0 1 0 1 1 1 0 1 1 0 0 0 0 0 0 0 0 1 1 1 1\n",
      " 0 1 1 0 0 0 0 0 0 1 0 1 1 0 0 0 1 0 0 0 1 0 0 0 1 0 0 1 1 1 0 0 0 1 1 0 0\n",
      " 1 0 0 0 1 1 1 0 0 0 1 0 0 0 1 0 1 0 0 1 0 0 0 1 1 1 1 1 1 1 1 1 0 0 0 1 0\n",
      " 0 1 1 1 0 1 1 0 1 1 1 0 1 0 0 1 1 0 1 1 0 0 0 1 1 0 1 0 1 0 1 0 1 0 1 1 0\n",
      " 1 0 0 1 0 0 0 1 0 0 1 0 0 1 0 1 1 0 1 0 0 0 1 1 0 0 0 1 1 0 0 0 0 1 1 1 1\n",
      " 0 0 1 1 1 1 1 1 1 1 1 1 1 1 0 1 0 0 1 1 0 1 0 1 1 1 0 0 1 0 1 0 1 0 0 0 1\n",
      " 0 1 0 1 0 1 0 1 1 1 0 0 0 0 1 1 0 0 1 0 1 1 1 0 1 0 1 0 1 1 0 0 0 0 1 0 1\n",
      " 1]\n",
      "Accuracy:  0.488\n",
      "Precision:  0.6011787819253438\n",
      "Recall:  0.4975609756097561\n",
      "F1:  0.5444839857651246\n"
     ]
    },
    {
     "data": {
      "image/png": "[encoded data removed]",
      "text/plain": [
       "<Figure size 432x288 with 2 Axes>"
      ]
     },
     "metadata": {
      "needs_background": "light"
     },
     "output_type": "display_data"
    }
   ],
   "source": [
    "def performance(y_test, y_pred):\n",
    "\n",
    "    sb.heatmap(confusion_matrix(y_test, y_pred), annot=True)\n",
    "    print('Accuracy: ', accuracy_score(y_test, y_pred))\n",
    "    print('Precision: ', precision_score(y_test, y_pred))\n",
    "    print('Recall: ', recall_score(y_test, y_pred))\n",
    "    print('F1: ', f1_score(y_test, y_pred))\n",
    "print(list(bow_ps_test_y))\n",
    "print(y_pred)\n",
    "performance(bow_ps_test_y, y_pred)"
   ]
  },
  {
   "cell_type": "markdown",
   "metadata": {},
   "source": [
    "### Naïve Bayes with Porter Stemmer"
   ]
  },
  {
   "cell_type": "code",
   "execution_count": 61,
   "metadata": {},
   "outputs": [
    {
     "name": "stdout",
     "output_type": "stream",
     "text": [
      "[1 1 1 ... 1 1 0]\n",
      "(8000, 1500) (8000,)\n",
      "[1 0 1 1 1 1 1 1 1 1 1 0 0 0 0 1 1 1 0 0 0 0 1 1 0 0 0 1 1 1 0 1 1 1 1 1 1\n",
      " 1 1 1 0 1 1 0 1 0 1 0 0 1 1 0 1 1 1 1 1 1 1 1 1 1 1 1 1 0 0 1 0 1 1 0 0 0\n",
      " 0 1 1 1 1 1 0 0 1 0 0 1 0 0 1 0 0 1 1 0 0 1 1 1 1 0 1 0 1 1 1 1 1 1 1 1 1\n",
      " 1 1 1 1 0 0 0 1 0 1 1 0 1 1 1 0 0 0 1 0 1 0 0 1 0 1 0 1 1 1 1 0 1 1 1 1 0\n",
      " 0 1 1 1 1 0 1 0 0 1 1 0 0 1 0 1 1 1 0 0 1 0 0 1 1 0 1 1 1 0 1 1 1 1 1 1 0\n",
      " 1 1 1 1 0 1 0 0 1 0 0 1 0 1 0 1 0 0 1 1 1 1 1 1 1 0 0 0 1 0 1 1 1 1 1 1 1\n",
      " 0 1 1 1 1 1 0 1 0 1 1 1 1 1 1 0 1 1 1 0 1 1 1 0 1 1 1 1 0 1 1 0 0 1 0 0 0\n",
      " 0 1 0 0 0 1 1 1 1 1 1 0 1 0 0 0 1 1 0 0 1 1 1 1 0 1 0 0 1 1 1 0 0 1 1 1 0\n",
      " 0 1 0 1 1 1 0 0 0 1 0 1 0 1 1 0 1 1 1 1 1 0 1 1 1 1 1 1 1 1 0 0 1 1 1 1 1\n",
      " 1 0 1 1 0 0 1 0 1 0 1 1 1 1 0 1 1 1 1 0 0 1 0 1 0 1 1 0 0 1 1 1 1 1 1 1 1\n",
      " 1 0 1 0 0 1 1 1 1 1 1 1 1 1 0 1 0 1 1 0 0 1 1 1 1 1 1 0 1 1 1 0 0 1 0 1 0\n",
      " 1 0 0 1 0 0 1 0 1 1 1 0 1 1 0 0 0 1 1 1 0 1 0 0 1 0 1 0 1 0 1 1 1 1 1 0 1\n",
      " 1 0 1 1 1 1 1 0 1 1 1 1 1 0 0 1 0 1 0 1 1 1 1 0 0 1 1 0 0 0 0 0 1 0 0 0 0\n",
      " 1 1 0 1 1 0 1 1 1 1 1 1 0 1 0 1 0 1 0 0 0 1 1 1 1 1 0 1 0 1 0 0 1 1 0 1 1\n",
      " 0 1 1 0 1 1 1 1 1 1 1 1 0 1 0 0 1 0 1 1 0 1 0 1 0 0 1 0 0 0 0 0 1 1 1 1 0\n",
      " 1 1 1 1 0 0 0 0 0 1 1 1 0 1 0 0 0 1 1 1 0 1 1 1 0 0 0 1 1 1 0 0 1 1 1 1 1\n",
      " 0 1 1 0 1 1 1 1 0 1 1 1 1 1 0 1 1 1 0 1 0 0 1 0 0 1 1 1 1 1 0 1 1 0 0 0 0\n",
      " 1 0 1 0 0 0 1 1 1 1 1 1 1 0 1 1 0 0 1 1 1 1 1 1 0 0 0 1 1 0 1 1 1 0 1 1 1\n",
      " 0 1 0 0 1 1 1 0 1 1 1 0 1 0 1 1 1 0 1 1 1 1 1 1 0 1 0 1 0 1 0 1 0 1 1 0 1\n",
      " 1 1 0 0 0 1 0 1 0 1 0 1 0 0 1 0 1 1 0 1 1 1 1 1 0 1 0 0 1 1 1 1 1 0 1 0 1\n",
      " 0 1 1 0 0 0 1 0 1 1 0 1 1 0 1 0 0 1 1 0 1 0 0 1 0 1 0 0 0 1 1 1 1 0 0 1 0\n",
      " 1 1 0 0 1 1 0 0 1 1 1 1 1 1 0 1 1 1 1 0 0 1 1 1 1 1 1 0 1 1 0 1 1 1 0 1 0\n",
      " 1 0 0 0 0 0 1 0 0 0 0 1 1 1 1 1 0 1 0 0 1 1 1 0 0 1 0 0 0 1 0 1 1 1 1 1 0\n",
      " 0 0 1 0 0 1 0 1 1 1 1 0 1 0 1 1 1 1 1 1 1 1 1 0 0 1 0 1 0 1 1 1 0 0 1 0 1\n",
      " 0 1 1 0 0 1 0 1 1 0 1 1 0 0 1 1 1 0 1 0 1 1 1 1 1 1 1 0 1 0 0 1 1 1 1 0 0\n",
      " 1 1 1 1 0 1 1 0 0 1 0 0 0 1 1 1 1 1 1 0 1 1 1 0 1 0 0 0 1 1 0 0 1 0 0 1 0\n",
      " 0 0 1 0 0 0 1 0 1 1 0 1 0 0 0 0 0 1 1 1 1 0 1 0 1 0 0 1 0 1 1 1 1 1 1 1 0\n",
      " 1]\n",
      "(1000, 1500) (1000,)\n",
      "[1 1 1 ... 1 1 0]\n",
      "Accuracy:  0.488\n",
      "Precision:  0.6011787819253438\n",
      "Recall:  0.4975609756097561\n",
      "F1:  0.5444839857651246\n"
     ]
    },
    {
     "data": {
      "image/png": "[encoded data removed]",
      "text/plain": [
       "<Figure size 432x288 with 2 Axes>"
      ]
     },
     "metadata": {
      "needs_background": "light"
     },
     "output_type": "display_data"
    }
   ],
   "source": [
    "corpus_train = porterStemming(train_dataset)\n",
    "corpus_test = porterStemming(test_dataset)\n",
    "\n",
    "train_x, train_y = bagOfWords(corpus_train, train_dataset)\n",
    "test_x, test_y = bagOfWords(corpus_test, test_dataset)\n",
    "\n",
    "y_pred = naiveBayes(train_x, train_y, test_x)\n",
    "performance(bow_ps_test_y, nb)"
   ]
  },
  {
   "cell_type": "markdown",
   "metadata": {},
   "source": [
    "## Conclusions\n",
    "\n",
    "[[ go back to the top ]](#Table-of-contents)\n",
    "\n",
    "TO DO"
   ]
  },
  {
   "cell_type": "markdown",
   "metadata": {},
   "source": [
    "## References\n",
    "\n",
    "[[ go back to the top ]](#Table-of-contents)\n",
    "\n",
    "TO DO"
   ]
  }
 ],
 "metadata": {
  "kernelspec": {
   "display_name": "Python 3",
   "language": "python",
   "name": "python3"
  },
  "language_info": {
   "codemirror_mode": {
    "name": "ipython",
    "version": 3
   },
   "file_extension": ".py",
   "mimetype": "text/x-python",
   "name": "python",
   "nbconvert_exporter": "python",
   "pygments_lexer": "ipython3",
   "version": "3.8.5"
  }
 },
 "nbformat": 4,
 "nbformat_minor": 4
}
