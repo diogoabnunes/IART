{
 "cells": [
  {
   "cell_type": "markdown",
   "metadata": {},
   "source": [
    "# Natural Language Processing: Detecting Humor\n",
    "## TP2 - IART - G44\n",
    "- [Afonso Caiado, up201806789](https://sigarra.up.pt/feup/pt/fest_geral.cursos_list?pv_num_unico=201806789)\n",
    "- [Diogo Nunes, up201808546](https://sigarra.up.pt/feup/pt/fest_geral.cursos_list?pv_num_unico=201808546)\n",
    "- [João Pinto, up201806667](https://sigarra.up.pt/feup/pt/fest_geral.cursos_list?pv_num_unico=201806667)"
   ]
  },
  {
   "cell_type": "markdown",
   "metadata": {},
   "source": [
    "**It is recommended to [view this notebook in nbviewer](http://nbviewer.ipython.org/github/rhiever/Data-Analysis-and-Machine-Learning-Projects/blob/master/example-data-science-notebook/Example%20Machine%20Learning%20Notebook.ipynb) for the best viewing experience.**\n",
    "\n",
    "**You can also [execute the code in this notebook on Binder](https://mybinder.org/v2/gh/rhiever/Data-Analysis-and-Machine-Learning-Projects/master?filepath=example-data-science-notebook%2FExample%20Machine%20Learning%20Notebook.ipynb) - no local installation required.**"
   ]
  },
  {
   "cell_type": "markdown",
   "metadata": {},
   "source": [
    "## Table of contents\n",
    "\n",
    "1. [Introduction](#Introduction)\n",
    "\n",
    "2. [Required libraries](#Required-libraries)\n",
    "\n",
    "3. [Main](#Main)\n",
    "\n",
    "11. [Conclusions](#Conclusions)"
   ]
  },
  {
   "cell_type": "code",
   "execution_count": 40,
   "metadata": {},
   "outputs": [
    {
     "name": "stdout",
     "output_type": "stream",
     "text": [
      "        id                                               text  is_humor  \\\n",
      "0        1  TENNESSEE: We're the best state. Nobody even c...         1   \n",
      "1        2  A man inserted an advertisement in the classif...         1   \n",
      "2        3  How many men does it take to open a can of bee...         1   \n",
      "3        4  Told my mom I hit 1200 Twitter followers. She ...         1   \n",
      "4        5  Roses are dead. Love is fake. Weddings are bas...         1   \n",
      "...    ...                                                ...       ...   \n",
      "7995  7996  Lack of awareness of the pervasiveness of raci...         0   \n",
      "7996  7997    Why are aspirins white? Because they work sorry         1   \n",
      "7997  7998  Today, we Americans celebrate our independence...         1   \n",
      "7998  7999  How to keep the flies off the bride at an Ital...         1   \n",
      "7999  8000  \"Each ounce of sunflower seeds gives you 37% o...         0   \n",
      "\n",
      "      humor_rating  \n",
      "0             2.42  \n",
      "1             2.50  \n",
      "2             1.95  \n",
      "3             2.11  \n",
      "4             2.78  \n",
      "...            ...  \n",
      "7995           NaN  \n",
      "7996          1.33  \n",
      "7997          2.55  \n",
      "7998          1.00  \n",
      "7999           NaN  \n",
      "\n",
      "[8000 rows x 4 columns]\n"
     ]
    }
   ],
   "source": [
    "import pandas as pd\n",
    "fields = ['id', 'is_humor', 'humor_rating', 'text']\n",
    "\n",
    "# Importing the test dataset\n",
    "dataset = pd.read_csv('datasets/hahackathon_train.csv', index_col=False, usecols=fields)['id', ]\n",
    "\n",
    "print(dataset)"
   ]
  },
  {
   "cell_type": "code",
   "execution_count": null,
   "metadata": {},
   "outputs": [],
   "source": []
  }
 ],
 "metadata": {
  "kernelspec": {
   "display_name": "Python 3",
   "language": "python",
   "name": "python3"
  },
  "language_info": {
   "codemirror_mode": {
    "name": "ipython",
    "version": 3
   },
   "file_extension": ".py",
   "mimetype": "text/x-python",
   "name": "python",
   "nbconvert_exporter": "python",
   "pygments_lexer": "ipython3",
   "version": "3.8.5"
  }
 },
 "nbformat": 4,
 "nbformat_minor": 4
}
