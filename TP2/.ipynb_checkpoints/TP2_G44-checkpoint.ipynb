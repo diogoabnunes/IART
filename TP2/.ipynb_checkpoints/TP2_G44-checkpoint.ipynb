{
 "cells": [
  {
   "cell_type": "markdown",
   "metadata": {},
   "source": [
    "# Natural Language Processing: Detecting Humor\n",
    "## TP2 - IART - G44\n",
    "- [Afonso Caiado, up201806789](https://sigarra.up.pt/feup/pt/fest_geral.cursos_list?pv_num_unico=201806789)\n",
    "- [Diogo Nunes, up201808546](https://sigarra.up.pt/feup/pt/fest_geral.cursos_list?pv_num_unico=201808546)\n",
    "- [João Pinto, up201806667](https://sigarra.up.pt/feup/pt/fest_geral.cursos_list?pv_num_unico=201806667)"
   ]
  },
  {
   "cell_type": "markdown",
   "metadata": {},
   "source": [
    "**It is recommended to [view this notebook in nbviewer](http://nbviewer.ipython.org/github/rhiever/Data-Analysis-and-Machine-Learning-Projects/blob/master/example-data-science-notebook/Example%20Machine%20Learning%20Notebook.ipynb) for the best viewing experience.**\n",
    "\n",
    "**You can also [execute the code in this notebook on Binder](https://mybinder.org/v2/gh/rhiever/Data-Analysis-and-Machine-Learning-Projects/master?filepath=example-data-science-notebook%2FExample%20Machine%20Learning%20Notebook.ipynb) - no local installation required.**"
   ]
  },
  {
   "cell_type": "markdown",
   "metadata": {},
   "source": [
    "## Table of contents\n",
    "\n",
    "1. [Introduction](#Introduction)\n",
    "2. [Required libraries](#Required-libraries)\n",
    "3. [Checking the data](#Checking-the-data)\n",
    "4. [Preprocessing the data](#Preprocessing-the-data)\n",
    "    - [Porter Stemming](#Porter-Stemming)\n",
    "    - [Snowball Stemming](#Snowball-Stemming)\n",
    "    - [Lancaster Stemming](#Lancaster-Stemming)\n",
    "    - [Lemmatization](#Lemmatization)\n",
    "    - [Bag of words Model](#Bag-of-words-Model)\n",
    "    - [Stemming or Lemmatization?](#Stemming-or-Lemmatization?)\n",
    "5. [Applying machine learning algorithms](#Applying-machine-learning-algorithms)\n",
    "6. [Conclusions](#Conclusions)\n",
    "7. [References](#References)"
   ]
  },
  {
   "cell_type": "markdown",
   "metadata": {},
   "source": [
    "## Introduction\n",
    "\n",
    "[[ go back to the top ]](#Table-of-contents)\n",
    "\n",
    "Humor poses interesting linguistic challenges to NLP, due to its emphasis on multiple word senses, cultural knowledge, and pragmatic competence. Humor appreciation is also a highly subjective phenomenon, and each person can have a different perception of a joke. \n",
    "\n",
    "- Is the intention of the text do be humorous? (0 or 1). The first task, is a binary one. We simply have to predict if the text is considered humorous.  \n",
    "- (If it is intended to be humorous) How humorous do you find it? (1 to 5). In this step, by emulating previous humor detection tasks with ratings and classification scores, we have to predict how humorous the text actually is (if it is humorous)."
   ]
  },
  {
   "cell_type": "markdown",
   "metadata": {},
   "source": [
    "## Required libraries and imports\n",
    "\n",
    "[[ go back to the top ]](#Table-of-contents)\n",
    "\n",
    "If you don't have Python on your computer, you can use the [Anaconda Python distribution](http://continuum.io/downloads) to install most of the Python packages you need. Anaconda provides a simple double-click installer for your convenience.\n",
    "\n",
    "This notebook uses several Python packages that come standard with the Anaconda Python distribution. The primary libraries that we'll be using are:\n",
    "\n",
    "* **NumPy**: Provides a fast numerical array structure and helper functions.\n",
    "* **pandas**: Provides a DataFrame structure to store data in memory and work with it easily and efficiently.\n",
    "* **scikit-learn**: The essential Machine Learning package in Python.\n",
    "* **matplotlib**: Basic plotting library in Python; most other Python plotting libraries are built on top of it.\n",
    "* **Seaborn**: Advanced statistical plotting library.\n",
    "\n",
    "To make sure you have all of the packages you need, install them with `conda`:\n",
    "\n",
    "    conda install numpy pandas scikit-learn matplotlib seaborn\n",
    "    \n",
    "    conda install -c conda-forge watermark\n",
    "\n",
    "`conda` may ask you to update some of them if you don't have the most recent version. Allow it to do so.\n",
    "\n",
    "**Note:** We will not be providing support for people trying to run this notebook outside of the Anaconda Python distribution."
   ]
  },
  {
   "cell_type": "code",
   "execution_count": 75,
   "metadata": {},
   "outputs": [],
   "source": [
    "import time\n",
    "import pandas as pd\n",
    "import seaborn as sb\n",
    "import re\n",
    "import nltk\n",
    "from nltk.stem.porter import PorterStemmer\n",
    "from nltk.stem import LancasterStemmer\n",
    "from nltk.stem.snowball import SnowballStemmer\n",
    "from nltk.stem import WordNetLemmatizer\n",
    "from nltk.corpus import stopwords\n",
    "from sklearn.model_selection import train_test_split\n",
    "from sklearn.feature_extraction.text import CountVectorizer\n",
    "from sklearn.naive_bayes import GaussianNB\n",
    "from sklearn.svm import SVC\n",
    "from sklearn.tree import DecisionTreeClassifier\n",
    "from sklearn import tree\n",
    "from sklearn.metrics import confusion_matrix\n",
    "from sklearn.metrics import accuracy_score\n",
    "from sklearn.metrics import precision_score\n",
    "from sklearn.metrics import recall_score\n",
    "from sklearn.metrics import f1_score"
   ]
  },
  {
   "cell_type": "markdown",
   "metadata": {},
   "source": [
    "## Checking the data\n",
    "\n",
    "[[ go back to the top ]](#Table-of-contents)\n",
    "\n",
    "In this section, we will import the dataset needed, check and analyse their content."
   ]
  },
  {
   "cell_type": "code",
   "execution_count": 62,
   "metadata": {},
   "outputs": [],
   "source": [
    "fieldsC = ['text', 'is_humor']\n",
    "fieldsR = ['text', 'humor_rating']\n",
    "fields = ['text', 'is_humor', 'humor_rating']\n",
    "# for this project, we don't need 'humor_controversy' and 'offense_rating'\n",
    "\n",
    "# Importing the datasets\n",
    "train = pd.read_csv('datasets/train.csv', usecols=fields, na_values=['NaN'])\n",
    "trainC = pd.read_csv('datasets/train.csv', usecols=fieldsC, na_values=['NaN'])\n",
    "trainR = pd.read_csv('datasets/train.csv', usecols=fieldsR, na_values=['NaN'])\n",
    "trainR['humor_rating'] = trainR['humor_rating'].fillna(0)"
   ]
  },
  {
   "cell_type": "code",
   "execution_count": 41,
   "metadata": {},
   "outputs": [
    {
     "data": {
      "text/html": [
       "<div>\n",
       "<style scoped>\n",
       "    .dataframe tbody tr th:only-of-type {\n",
       "        vertical-align: middle;\n",
       "    }\n",
       "\n",
       "    .dataframe tbody tr th {\n",
       "        vertical-align: top;\n",
       "    }\n",
       "\n",
       "    .dataframe thead th {\n",
       "        text-align: right;\n",
       "    }\n",
       "</style>\n",
       "<table border=\"1\" class=\"dataframe\">\n",
       "  <thead>\n",
       "    <tr style=\"text-align: right;\">\n",
       "      <th></th>\n",
       "      <th>text</th>\n",
       "      <th>is_humor</th>\n",
       "      <th>humor_rating</th>\n",
       "    </tr>\n",
       "  </thead>\n",
       "  <tbody>\n",
       "    <tr>\n",
       "      <th>0</th>\n",
       "      <td>TENNESSEE: We're the best state. Nobody even c...</td>\n",
       "      <td>1</td>\n",
       "      <td>2.42</td>\n",
       "    </tr>\n",
       "    <tr>\n",
       "      <th>1</th>\n",
       "      <td>A man inserted an advertisement in the classif...</td>\n",
       "      <td>1</td>\n",
       "      <td>2.50</td>\n",
       "    </tr>\n",
       "    <tr>\n",
       "      <th>2</th>\n",
       "      <td>How many men does it take to open a can of bee...</td>\n",
       "      <td>1</td>\n",
       "      <td>1.95</td>\n",
       "    </tr>\n",
       "    <tr>\n",
       "      <th>3</th>\n",
       "      <td>Told my mom I hit 1200 Twitter followers. She ...</td>\n",
       "      <td>1</td>\n",
       "      <td>2.11</td>\n",
       "    </tr>\n",
       "    <tr>\n",
       "      <th>4</th>\n",
       "      <td>Roses are dead. Love is fake. Weddings are bas...</td>\n",
       "      <td>1</td>\n",
       "      <td>2.78</td>\n",
       "    </tr>\n",
       "  </tbody>\n",
       "</table>\n",
       "</div>"
      ],
      "text/plain": [
       "                                                text  is_humor  humor_rating\n",
       "0  TENNESSEE: We're the best state. Nobody even c...         1          2.42\n",
       "1  A man inserted an advertisement in the classif...         1          2.50\n",
       "2  How many men does it take to open a can of bee...         1          1.95\n",
       "3  Told my mom I hit 1200 Twitter followers. She ...         1          2.11\n",
       "4  Roses are dead. Love is fake. Weddings are bas...         1          2.78"
      ]
     },
     "execution_count": 41,
     "metadata": {},
     "output_type": "execute_result"
    }
   ],
   "source": [
    "# Train dataset head\n",
    "train.head()"
   ]
  },
  {
   "cell_type": "code",
   "execution_count": 42,
   "metadata": {},
   "outputs": [
    {
     "name": "stdout",
     "output_type": "stream",
     "text": [
      "<class 'pandas.core.frame.DataFrame'>\n",
      "RangeIndex: 8000 entries, 0 to 7999\n",
      "Data columns (total 3 columns):\n",
      " #   Column        Non-Null Count  Dtype  \n",
      "---  ------        --------------  -----  \n",
      " 0   text          8000 non-null   object \n",
      " 1   is_humor      8000 non-null   int64  \n",
      " 2   humor_rating  8000 non-null   float64\n",
      "dtypes: float64(1), int64(1), object(1)\n",
      "memory usage: 187.6+ KB\n"
     ]
    }
   ],
   "source": [
    "# Train dataset information\n",
    "train.info()"
   ]
  },
  {
   "cell_type": "markdown",
   "metadata": {},
   "source": [
    "As we can see, our train dataset has 4 relevant fields (for this project):\n",
    "- **id**\n",
    "- **text**\n",
    "- **is_humor**\n",
    "- **humor_rating**."
   ]
  },
  {
   "cell_type": "code",
   "execution_count": 43,
   "metadata": {},
   "outputs": [
    {
     "data": {
      "text/html": [
       "<div>\n",
       "<style scoped>\n",
       "    .dataframe tbody tr th:only-of-type {\n",
       "        vertical-align: middle;\n",
       "    }\n",
       "\n",
       "    .dataframe tbody tr th {\n",
       "        vertical-align: top;\n",
       "    }\n",
       "\n",
       "    .dataframe thead th {\n",
       "        text-align: right;\n",
       "    }\n",
       "</style>\n",
       "<table border=\"1\" class=\"dataframe\">\n",
       "  <thead>\n",
       "    <tr style=\"text-align: right;\">\n",
       "      <th></th>\n",
       "      <th>is_humor</th>\n",
       "      <th>humor_rating</th>\n",
       "    </tr>\n",
       "  </thead>\n",
       "  <tbody>\n",
       "    <tr>\n",
       "      <th>count</th>\n",
       "      <td>8000.000000</td>\n",
       "      <td>8000.000000</td>\n",
       "    </tr>\n",
       "    <tr>\n",
       "      <th>mean</th>\n",
       "      <td>0.616500</td>\n",
       "      <td>1.393614</td>\n",
       "    </tr>\n",
       "    <tr>\n",
       "      <th>std</th>\n",
       "      <td>0.486269</td>\n",
       "      <td>1.185941</td>\n",
       "    </tr>\n",
       "    <tr>\n",
       "      <th>min</th>\n",
       "      <td>0.000000</td>\n",
       "      <td>0.000000</td>\n",
       "    </tr>\n",
       "    <tr>\n",
       "      <th>25%</th>\n",
       "      <td>0.000000</td>\n",
       "      <td>0.000000</td>\n",
       "    </tr>\n",
       "    <tr>\n",
       "      <th>50%</th>\n",
       "      <td>1.000000</td>\n",
       "      <td>1.760000</td>\n",
       "    </tr>\n",
       "    <tr>\n",
       "      <th>75%</th>\n",
       "      <td>1.000000</td>\n",
       "      <td>2.420000</td>\n",
       "    </tr>\n",
       "    <tr>\n",
       "      <th>max</th>\n",
       "      <td>1.000000</td>\n",
       "      <td>4.000000</td>\n",
       "    </tr>\n",
       "  </tbody>\n",
       "</table>\n",
       "</div>"
      ],
      "text/plain": [
       "          is_humor  humor_rating\n",
       "count  8000.000000   8000.000000\n",
       "mean      0.616500      1.393614\n",
       "std       0.486269      1.185941\n",
       "min       0.000000      0.000000\n",
       "25%       0.000000      0.000000\n",
       "50%       1.000000      1.760000\n",
       "75%       1.000000      2.420000\n",
       "max       1.000000      4.000000"
      ]
     },
     "execution_count": 43,
     "metadata": {},
     "output_type": "execute_result"
    }
   ],
   "source": [
    "# Train dataset statistics\n",
    "train.describe()"
   ]
  },
  {
   "cell_type": "markdown",
   "metadata": {},
   "source": [
    "This table shows that our train dataset has:\n",
    "- 8000 data lines;\n",
    "- Curiously, there is no text evaluated with more than 4 in humor_rating column;\n",
    "- The mean value of humor_rating is 2.26\n",
    "- 61.6% of the dataset is considered humoristic."
   ]
  },
  {
   "cell_type": "code",
   "execution_count": 44,
   "metadata": {},
   "outputs": [
    {
     "data": {
      "text/plain": [
       "<AxesSubplot:xlabel='is_humor', ylabel='count'>"
      ]
     },
     "execution_count": 44,
     "metadata": {},
     "output_type": "execute_result"
    },
    {
     "data": {
      "image/png": "[encoded data removed]",
      "text/plain": [
       "<Figure size 432x288 with 1 Axes>"
      ]
     },
     "metadata": {
      "needs_background": "light"
     },
     "output_type": "display_data"
    }
   ],
   "source": [
    "sb.countplot(x='is_humor', data=train)"
   ]
  },
  {
   "cell_type": "code",
   "execution_count": 45,
   "metadata": {},
   "outputs": [
    {
     "data": {
      "text/plain": [
       "<AxesSubplot:xlabel='humor_rating', ylabel='count'>"
      ]
     },
     "execution_count": 45,
     "metadata": {},
     "output_type": "execute_result"
    },
    {
     "data": {
      "image/png": "[encoded data removed]",
      "text/plain": [
       "<Figure size 432x288 with 1 Axes>"
      ]
     },
     "metadata": {
      "needs_background": "light"
     },
     "output_type": "display_data"
    }
   ],
   "source": [
    "sb.countplot(x='humor_rating', order=[1,2,3,4,5], data=train)"
   ]
  },
  {
   "cell_type": "code",
   "execution_count": 46,
   "metadata": {},
   "outputs": [
    {
     "data": {
      "text/plain": [
       "<seaborn.axisgrid.FacetGrid at 0x15906900df0>"
      ]
     },
     "execution_count": 46,
     "metadata": {},
     "output_type": "execute_result"
    },
    {
     "data": {
      "image/png": "[encoded data removed]",
      "text/plain": [
       "<Figure size 360x360 with 1 Axes>"
      ]
     },
     "metadata": {
      "needs_background": "light"
     },
     "output_type": "display_data"
    }
   ],
   "source": [
    "train_len = train['text'].apply(len)\n",
    "sb.displot(train_len)"
   ]
  },
  {
   "cell_type": "markdown",
   "metadata": {},
   "source": [
    "## Preprocessing the data\n",
    "\n",
    "[[ go back to the top ]](#Table-of-contents)\n",
    "\n",
    "Now, we will do some tasks needed before applying machine learning algorithms:\n",
    "1. Clean the 'text' column, by removing non-alphanumeric characters;\n",
    "2. Lowercase and tokenize it;\n",
    "3. Stem and remove all stopwords;\n",
    "4. Create bag-of-words model.\n",
    "\n",
    "For that, we will present 3 stemming techniques and lemmatization."
   ]
  },
  {
   "cell_type": "markdown",
   "metadata": {},
   "source": [
    "### Porter Stemming\n",
    "\n",
    "This preprocessing technique is known as one of the simplest and fastest, commonly used in Information Retrieval systems research, where the experiments need to be exactly repeatable."
   ]
  },
  {
   "cell_type": "code",
   "execution_count": 63,
   "metadata": {},
   "outputs": [],
   "source": [
    "def porterStemming(dataset):\n",
    "    corpus = []\n",
    "    ps = PorterStemmer()\n",
    "\n",
    "    for i in range(0, dataset.shape[0]):\n",
    "        text = re.sub('[^a-zA-Z]', ' ', dataset['text'][i])\n",
    "        text = text.lower().split()\n",
    "        text = ' '.join([ps.stem(w) for w in text if not w in set(stopwords.words('english'))])\n",
    "\n",
    "        corpus.append(text)\n",
    "    \n",
    "    return corpus"
   ]
  },
  {
   "cell_type": "markdown",
   "metadata": {},
   "source": [
    "### Snowball Stemming\n",
    "\n",
    "This technique can support other languages, that's why it's called a multi-lingual stemmer. This stemmer is based on a programming language called ‘Snowball’ that processes small strings and is the most widely used stemmer. The Snowball stemmer is way more aggressive than Porter Stemmer and is also referred to as Porter2 Stemmer. Because of the improvements added when compared to the Porter Stemmer, the Snowball stemmer is having greater computational speed. "
   ]
  },
  {
   "cell_type": "code",
   "execution_count": 53,
   "metadata": {},
   "outputs": [],
   "source": [
    "def snowballStemming(dataset):\n",
    "    corpus = []\n",
    "    ss = SnowballStemmer(language='english')\n",
    "\n",
    "    for i in range(0, dataset.shape[0]):\n",
    "        text = re.sub('[^a-zA-Z]', ' ', dataset['text'][i])\n",
    "        text = text.lower().split()\n",
    "        text = ' '.join([ss.stem(w) for w in text if not w in set(stopwords.words('english'))])\n",
    "\n",
    "        corpus.append(text)\n",
    "\n",
    "    return corpus"
   ]
  },
  {
   "cell_type": "markdown",
   "metadata": {},
   "source": [
    "### Lancaster Stemming\n",
    "\n",
    "The Lancaster stemmers are more aggressive and dynamic compared to the other two stemmers. The stemmer is really faster, but the algorithm is really confusing when dealing with small words. But they are not as efficient as Snowball Stemmers. The Lancaster stemmers save the rules externally and basically uses an iterative algorithm. "
   ]
  },
  {
   "cell_type": "code",
   "execution_count": 54,
   "metadata": {},
   "outputs": [],
   "source": [
    "def lancasterStemming(dataset):\n",
    "    corpus = []\n",
    "    ls = LancasterStemmer()\n",
    "\n",
    "    for i in range(0, dataset.shape[0]):\n",
    "        text = re.sub('[^a-zA-Z]', ' ', dataset['text'][i])\n",
    "        text = text.lower().split()\n",
    "        text = ' '.join([ls.stem(w) for w in text if not w in set(stopwords.words('english'))])\n",
    "\n",
    "        corpus.append(text)\n",
    "        \n",
    "    return corpus"
   ]
  },
  {
   "cell_type": "markdown",
   "metadata": {},
   "source": [
    "### Lemmatization\n",
    "\n",
    "> Lemmatization, unlike Stemming, reduces the inflected words properly ensuring that the root word belongs to the language. In Lemmatization root word is called Lemma. A lemma (plural lemmas or lemmata) is the canonical form, dictionary form, or citation form of a set of words."
   ]
  },
  {
   "cell_type": "code",
   "execution_count": 55,
   "metadata": {},
   "outputs": [],
   "source": [
    "def lemmatization(dataset):\n",
    "    corpus = []\n",
    "    wnl = WordNetLemmatizer()\n",
    "\n",
    "    for i in range(0, dataset.shape[0]):\n",
    "        text = re.sub('[^a-zA-Z]', ' ', dataset['text'][i])\n",
    "        text = text.lower().split()\n",
    "        text = ' '.join([wnl.lemmatize(w) for w in text if not w in set(stopwords.words('english'))])\n",
    "\n",
    "        corpus.append(text)\n",
    "\n",
    "    return corpus"
   ]
  },
  {
   "cell_type": "markdown",
   "metadata": {},
   "source": [
    "### Stemming or Lemmatization?\n",
    "\n",
    "One thing to note about lemmatization is that it is harder to create a lemmatizer in a new language than if it is a stemming algorithm because we require a lot more knowledge about structure of a language in lemmatizers.\n",
    "\n",
    "Stemming and Lemmatization both generate the foundation sort of the inflected words and therefore the only difference is that stem may not be an actual word whereas, lemma is an actual language word.\n",
    "\n",
    "Stemming follows an algorithm with steps to perform on the words which makes it faster. Whereas, in lemmatization, you used a corpus also to supply lemma which makes it slower than stemming. you furthermore might had to define a parts-of-speech to get the proper lemma.\n",
    "\n",
    "This means that:\n",
    "- **If speed is key, then stemming should be used**, since lemmatizers scan a corpus which consumes time and processing;\n",
    "- **If you have time and want even better results, then lemmatizing should be used**."
   ]
  },
  {
   "cell_type": "code",
   "execution_count": 64,
   "metadata": {},
   "outputs": [],
   "source": [
    "def dataSplit(X,y):\n",
    "\n",
    "    X_train, X_test, y_train, y_test = train_test_split(X, y, test_size = 0.20, random_state = 0)\n",
    "\n",
    "    # print(X_train.shape, y_train.shape)\n",
    "    # print(X_test.shape, y_test.shape)\n",
    "\n",
    "    return X_train, X_test, y_train, y_test"
   ]
  },
  {
   "cell_type": "markdown",
   "metadata": {},
   "source": [
    "### Bag of words Model"
   ]
  },
  {
   "cell_type": "code",
   "execution_count": 65,
   "metadata": {},
   "outputs": [],
   "source": [
    "def bagOfWords(corpus, dataset):\n",
    "    vectorizer = CountVectorizer(max_features = 1500)\n",
    "    x = vectorizer.fit_transform(corpus).toarray()\n",
    "    y = dataset.iloc[:,-1].values\n",
    "    # print(x.shape, y.shape)\n",
    "    return x, y"
   ]
  },
  {
   "cell_type": "markdown",
   "metadata": {},
   "source": [
    "## Applying machine learning algorithms\n",
    "\n",
    "[[ go back to the top ]](#Table-of-contents)\n",
    "\n",
    "We implemented these 3 machine learning algorithms:\n",
    "- **Naïve Bayes**\n",
    "- **Decision Trees**\n",
    "- **SVM**\n"
   ]
  },
  {
   "cell_type": "markdown",
   "metadata": {},
   "source": [
    "### Naïve Bayes\n",
    "\n",
    "Description: TODO"
   ]
  },
  {
   "cell_type": "code",
   "execution_count": 66,
   "metadata": {},
   "outputs": [],
   "source": [
    "def naiveBayes(X_train, y_train, X_test):\n",
    "    classifier = GaussianNB()\n",
    "    model = classifier.fit(X_train, y_train)\n",
    "\n",
    "    y_pred = classifier.predict(X_test)\n",
    "    return y_pred"
   ]
  },
  {
   "cell_type": "code",
   "execution_count": 67,
   "metadata": {},
   "outputs": [],
   "source": [
    "def SVM(X_train, y_train, X_test):\n",
    "    classifier = SVC()\n",
    "    classifier.fit(X_train, y_train)\n",
    "    \n",
    "    y_pred = classifier.predict(X_test)\n",
    "    return y_pred"
   ]
  },
  {
   "cell_type": "code",
   "execution_count": 68,
   "metadata": {},
   "outputs": [],
   "source": [
    "def decisionTree(X_train, y_train, X_test): \n",
    "    classifier = DecisionTreeClassifier()\n",
    "    classifier.fit(X_train, y_train)\n",
    "    \n",
    "    y_pred = classifier.predict(X_test)\n",
    "    return y_pred"
   ]
  },
  {
   "cell_type": "markdown",
   "metadata": {},
   "source": [
    "## Performance\n",
    "\n",
    "[[ go back to the top ]](#Table-of-contents)\n",
    "\n",
    "TO DO"
   ]
  },
  {
   "cell_type": "code",
   "execution_count": 69,
   "metadata": {},
   "outputs": [],
   "source": [
    "def performance(y_test, y_pred):\n",
    "    sb.heatmap(confusion_matrix(y_test, y_pred), annot=True)\n",
    "    print('Accuracy: ', accuracy_score(y_test, y_pred))\n",
    "    print('Precision: ', precision_score(y_test, y_pred))\n",
    "    print('Recall: ', recall_score(y_test, y_pred))\n",
    "    print('F1: ', f1_score(y_test, y_pred))"
   ]
  },
  {
   "cell_type": "markdown",
   "metadata": {},
   "source": [
    "### Naïve Bayes with Porter Stemmer"
   ]
  },
  {
   "cell_type": "code",
   "execution_count": 77,
   "metadata": {},
   "outputs": [
    {
     "name": "stdout",
     "output_type": "stream",
     "text": [
      "Accuracy:  0.729375\n",
      "Precision:  0.9020172910662824\n",
      "Recall:  0.6316851664984864\n",
      "F1:  0.7430267062314541\n",
      "Time: 50.22 seconds\n"
     ]
    },
    {
     "data": {
      "image/png": "[encoded data removed]",
      "text/plain": [
       "<Figure size 432x288 with 2 Axes>"
      ]
     },
     "metadata": {
      "needs_background": "light"
     },
     "output_type": "display_data"
    }
   ],
   "source": [
    "start = time.time()\n",
    "corpus_train = porterStemming(trainC)\n",
    "train_x, train_y = bagOfWords(corpus_train, trainC)\n",
    "X_train, X_test, y_train, y_test = dataSplit(train_x, train_y)\n",
    "y_pred = naiveBayes(X_train, y_train, X_test)\n",
    "performance(y_test, y_pred)\n",
    "print(\"Time: %.2f seconds\" % (time.time() - start))"
   ]
  },
  {
   "cell_type": "markdown",
   "metadata": {},
   "source": [
    "### SVM with Porter Stemmer"
   ]
  },
  {
   "cell_type": "code",
   "execution_count": 71,
   "metadata": {},
   "outputs": [
    {
     "name": "stdout",
     "output_type": "stream",
     "text": [
      "Accuracy:  0.820625\n",
      "Precision:  0.8346007604562737\n",
      "Recall:  0.8859737638748738\n",
      "F1:  0.8595203132648067\n"
     ]
    },
    {
     "data": {
      "image/png": "[encoded data removed]",
      "text/plain": [
       "<Figure size 432x288 with 2 Axes>"
      ]
     },
     "metadata": {
      "needs_background": "light"
     },
     "output_type": "display_data"
    }
   ],
   "source": [
    "start = time.time()\n",
    "#corpus_train = porterStemming(trainC)\n",
    "#train_x, train_y = bagOfWords(corpus_train, trainC)\n",
    "X_train, X_test, y_train, y_test = dataSplit(train_x, train_y)\n",
    "y_pred = SVM(X_train, y_train, X_test)\n",
    "performance(y_test, y_pred)\n",
    "print(\"Time: %.2f seconds\" % (time.time() - start))"
   ]
  },
  {
   "cell_type": "markdown",
   "metadata": {},
   "source": [
    "### Decision Tree with Porter Stemmer"
   ]
  },
  {
   "cell_type": "code",
   "execution_count": 72,
   "metadata": {},
   "outputs": [
    {
     "name": "stdout",
     "output_type": "stream",
     "text": [
      "Accuracy:  0.711875\n",
      "Precision:  0.7918502202643172\n",
      "Recall:  0.7255297679112008\n",
      "F1:  0.7572406529752502\n"
     ]
    },
    {
     "data": {
      "image/png": "[encoded data removed]",
      "text/plain": [
       "<Figure size 432x288 with 2 Axes>"
      ]
     },
     "metadata": {
      "needs_background": "light"
     },
     "output_type": "display_data"
    }
   ],
   "source": [
    "start = time.time()\n",
    "#corpus_train = porterStemming(trainC)\n",
    "#train_x, train_y = bagOfWords(corpus_train, trainC)\n",
    "X_train, X_test, y_train, y_test = dataSplit(train_x, train_y)\n",
    "y_pred = decisionTree(X_train, y_train, X_test)\n",
    "performance(y_test, y_pred)\n",
    "print(\"Time: %.2f seconds\" % (time.time() - start))"
   ]
  },
  {
   "cell_type": "markdown",
   "metadata": {},
   "source": [
    "## Conclusions\n",
    "\n",
    "[[ go back to the top ]](#Table-of-contents)\n",
    "\n",
    "TO DO"
   ]
  },
  {
   "cell_type": "markdown",
   "metadata": {},
   "source": [
    "## References\n",
    "\n",
    "[[ go back to the top ]](#Table-of-contents)\n",
    "\n",
    "TO DO"
   ]
  }
 ],
 "metadata": {
  "kernelspec": {
   "display_name": "Python 3",
   "language": "python",
   "name": "python3"
  },
  "language_info": {
   "codemirror_mode": {
    "name": "ipython",
    "version": 3
   },
   "file_extension": ".py",
   "mimetype": "text/x-python",
   "name": "python",
   "nbconvert_exporter": "python",
   "pygments_lexer": "ipython3",
   "version": "3.8.5"
  }
 },
 "nbformat": 4,
 "nbformat_minor": 4
}
